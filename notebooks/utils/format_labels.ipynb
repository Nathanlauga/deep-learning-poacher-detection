{
 "cells": [
  {
   "cell_type": "markdown",
   "metadata": {},
   "source": [
    "# Format labels"
   ]
  },
  {
   "cell_type": "code",
   "execution_count": 1,
   "metadata": {},
   "outputs": [],
   "source": [
    "import pandas as pd\n",
    "import os"
   ]
  },
  {
   "cell_type": "code",
   "execution_count": 20,
   "metadata": {},
   "outputs": [],
   "source": [
    "labels_dir = '/data/archives/TrainLabels/SingleActionLabels/'"
   ]
  },
  {
   "cell_type": "code",
   "execution_count": 21,
   "metadata": {},
   "outputs": [],
   "source": [
    "def get_files_by_ext(dir_name, ext=['txt']):\n",
    "    \"\"\"\n",
    "    \"\"\"\n",
    "    files_list = os.listdir(dir_name)\n",
    "    files = list()\n",
    "    \n",
    "    for entry in files_list:\n",
    "        path = os.path.join(dir_name, entry)\n",
    "        \n",
    "        if os.path.isdir(path):\n",
    "            files += get_files_by_ext(path)\n",
    "        else:\n",
    "            files.append(path)\n",
    "\n",
    "    return files"
   ]
  },
  {
   "cell_type": "code",
   "execution_count": 22,
   "metadata": {},
   "outputs": [],
   "source": [
    "txt_files = get_files_by_ext(labels_dir)"
   ]
  },
  {
   "cell_type": "code",
   "execution_count": 24,
   "metadata": {},
   "outputs": [],
   "source": [
    "txt_files\n",
    "\n",
    "labels = list()\n",
    "\n",
    "for file in txt_files:\n",
    "    video = file.split('/')[-1][:-4]\n",
    "    action = file.split('/')[3]\n",
    "    \n",
    "    columns = ['track_id','x_min','y_min','x_max','y_max','frame',\n",
    "               'lost','occluded','generated','label','actions']\n",
    "    tmp = pd.read_csv(file, sep=' ', header=None, names=columns)\n",
    "    \n",
    "    \n",
    "    tmp['video'] = video\n",
    "    # tmp['action_type'] = action\n",
    "    \n",
    "    labels.append(tmp)"
   ]
  },
  {
   "cell_type": "code",
   "execution_count": 25,
   "metadata": {},
   "outputs": [],
   "source": [
    "labels_df = pd.concat(labels)"
   ]
  },
  {
   "cell_type": "code",
   "execution_count": 26,
   "metadata": {},
   "outputs": [
    {
     "name": "stdout",
     "output_type": "stream",
     "text": [
      "<class 'pandas.core.frame.DataFrame'>\n",
      "Int64Index: 422053 entries, 0 to 10678\n",
      "Data columns (total 12 columns):\n",
      " #   Column     Non-Null Count   Dtype \n",
      "---  ------     --------------   ----- \n",
      " 0   track_id   422053 non-null  int64 \n",
      " 1   x_min      422053 non-null  int64 \n",
      " 2   y_min      422053 non-null  int64 \n",
      " 3   x_max      422053 non-null  int64 \n",
      " 4   y_max      422053 non-null  int64 \n",
      " 5   frame      422053 non-null  int64 \n",
      " 6   lost       422053 non-null  int64 \n",
      " 7   occluded   422053 non-null  int64 \n",
      " 8   generated  422053 non-null  int64 \n",
      " 9   label      422053 non-null  object\n",
      " 10  actions    375748 non-null  object\n",
      " 11  video      422053 non-null  object\n",
      "dtypes: int64(9), object(3)\n",
      "memory usage: 41.9+ MB\n"
     ]
    }
   ],
   "source": [
    "labels_df.info()"
   ]
  },
  {
   "cell_type": "code",
   "execution_count": 27,
   "metadata": {},
   "outputs": [],
   "source": [
    "save_path = '/data/train_labels.csv'\n",
    "\n",
    "labels_df.to_csv(save_path, index=False)"
   ]
  },
  {
   "cell_type": "markdown",
   "metadata": {},
   "source": [
    "## The end."
   ]
  }
 ],
 "metadata": {
  "kernelspec": {
   "display_name": "Python 3",
   "language": "python",
   "name": "python3"
  },
  "language_info": {
   "codemirror_mode": {
    "name": "ipython",
    "version": 3
   },
   "file_extension": ".py",
   "mimetype": "text/x-python",
   "name": "python",
   "nbconvert_exporter": "python",
   "pygments_lexer": "ipython3",
   "version": "3.6.9"
  }
 },
 "nbformat": 4,
 "nbformat_minor": 4
}
