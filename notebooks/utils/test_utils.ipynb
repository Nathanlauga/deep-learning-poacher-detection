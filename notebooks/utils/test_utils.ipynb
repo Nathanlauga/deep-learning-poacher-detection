{
 "cells": [
  {
   "cell_type": "markdown",
   "metadata": {},
   "source": [
    "# Test utils functions"
   ]
  },
  {
   "cell_type": "code",
   "execution_count": 1,
   "metadata": {},
   "outputs": [],
   "source": [
    "import utils"
   ]
  },
  {
   "cell_type": "markdown",
   "metadata": {},
   "source": [
    "### `extract_frames` function"
   ]
  },
  {
   "cell_type": "code",
   "execution_count": 2,
   "metadata": {},
   "outputs": [
    {
     "name": "stdout",
     "output_type": "stream",
     "text": [
      "Help on function extract_frames in module utils:\n",
      "\n",
      "extract_frames(file, out_dir='frames', save=False, skip=30)\n",
      "    Extract frames from a video file.\n",
      "    \n",
      "    Parameters\n",
      "    ----------\n",
      "    file:str\n",
      "        Video file with path\n",
      "    out_dir: str (default 'frames')\n",
      "        Path where to extract the frames\n",
      "    save: bool (default False)\n",
      "        Whether you want to save the image or not\n",
      "    skip: int (default 30):\n",
      "        Number of images to skip between each save\n",
      "\n"
     ]
    }
   ],
   "source": [
    "help(utils.extract_frames)"
   ]
  },
  {
   "cell_type": "code",
   "execution_count": 3,
   "metadata": {},
   "outputs": [
    {
     "name": "stdout",
     "output_type": "stream",
     "text": [
      "Frames saved to `frames/` directory.\n",
      "CPU times: user 58.6 s, sys: 703 ms, total: 59.3 s\n",
      "Wall time: 19.8 s\n"
     ]
    }
   ],
   "source": [
    "%%time\n",
    "path = '../data/Drone1-20200326T142711Z-001/Drone1/Morning/1.1.11.MP4'\n",
    "utils.extract_frames(file=path, out_dir='frames', save=True)"
   ]
  },
  {
   "cell_type": "markdown",
   "metadata": {},
   "source": [
    "### `regroup_frames_same_dir` function"
   ]
  },
  {
   "cell_type": "code",
   "execution_count": 3,
   "metadata": {},
   "outputs": [
    {
     "name": "stdout",
     "output_type": "stream",
     "text": [
      "Help on function regroup_frames_same_dir in module utils:\n",
      "\n",
      "regroup_frames_same_dir(parent_dir, out_dir='/data/train')\n",
      "    Regroup all frames in the same directory.\n",
      "    \n",
      "    Given a parent directory, find all picture file \n",
      "    (extension jpg, png or jpeg) and move them to out_dir\n",
      "    \n",
      "    Parameters\n",
      "    ----------\n",
      "    parent_dir: str\n",
      "        Parent directory where all the directories with \n",
      "        drone videos are\n",
      "    out_dir: str\n",
      "        Directory where to save all frames\n",
      "\n"
     ]
    }
   ],
   "source": [
    "help(utils.regroup_frames_same_dir)"
   ]
  },
  {
   "cell_type": "code",
   "execution_count": 5,
   "metadata": {},
   "outputs": [
    {
     "name": "stdout",
     "output_type": "stream",
     "text": [
      "Directory /data/test created.\n",
      "There are 17344 frames moved to `/data/test` directory.\n"
     ]
    }
   ],
   "source": [
    "utils.regroup_frames_same_dir(parent_dir='/data/drive_data', \n",
    "                              out_dir='/data/test')"
   ]
  },
  {
   "cell_type": "code",
   "execution_count": null,
   "metadata": {},
   "outputs": [],
   "source": []
  },
  {
   "cell_type": "code",
   "execution_count": null,
   "metadata": {},
   "outputs": [],
   "source": []
  },
  {
   "cell_type": "markdown",
   "metadata": {},
   "source": [
    "## The end."
   ]
  }
 ],
 "metadata": {
  "kernelspec": {
   "display_name": "Python 3",
   "language": "python",
   "name": "python3"
  },
  "language_info": {
   "codemirror_mode": {
    "name": "ipython",
    "version": 3
   },
   "file_extension": ".py",
   "mimetype": "text/x-python",
   "name": "python",
   "nbconvert_exporter": "python",
   "pygments_lexer": "ipython3",
   "version": "3.6.9"
  }
 },
 "nbformat": 4,
 "nbformat_minor": 4
}
