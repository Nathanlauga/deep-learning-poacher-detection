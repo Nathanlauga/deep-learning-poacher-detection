{
 "cells": [
  {
   "cell_type": "code",
   "execution_count": 1,
   "metadata": {},
   "outputs": [],
   "source": [
    "import cv2\n",
    "import argparse\n",
    "import numpy as np\n",
    "import utils"
   ]
  },
  {
   "cell_type": "code",
   "execution_count": 2,
   "metadata": {},
   "outputs": [],
   "source": [
    "# read input image\n",
    "image_file = \"object-detection-opencv/test.jpg\"\n",
    "image_file2 = \"object-detection-opencv/test_no_person.jpg\"\n",
    "# list_images = utils.get_files_by_ext(\"object-detection-opencv/\", \"jpg\")\n",
    "list_images = [image_file, image_file2]\n",
    "classes_file = \"object-detection-opencv/yolov3.txt\"\n",
    "weights_file = \"object-detection-opencv/yolov3.weights\"\n",
    "conf_file = \"object-detection-opencv/yolov3.cfg\"\n",
    "\n",
    "Width = list()\n",
    "Height = list()\n",
    "for image_path in list_images:\n",
    "    image = cv2.imread(image_path)\n",
    "\n",
    "    Width.append(image.shape[1])\n",
    "    Height.append(image.shape[0])\n",
    "\n",
    "scale = 0.00392\n",
    "\n",
    "# read class names from text file\n",
    "classes = None\n",
    "with open(classes_file, 'r') as f:\n",
    "    classes = [line.strip() for line in f.readlines()]\n",
    "\n",
    "# generate different colors for different classes \n",
    "COLORS = np.random.uniform(0, 255, size=(len(classes), 3))\n",
    "\n",
    "blob = utils.image_to_matrix(list_images)\n",
    "\n",
    "# read pre-trained model and config file\n",
    "# reads the weights and config file and creates the network.\n",
    "net = cv2.dnn.readNet(weights_file, conf_file)\n",
    "\n",
    "# create input blob \n",
    "# prepares the input image to run through the deep neural network\n",
    "    \n",
    "# set input blob for the network\n",
    "net.setInput(blob)"
   ]
  },
  {
   "cell_type": "code",
   "execution_count": 3,
   "metadata": {},
   "outputs": [],
   "source": [
    "# function to get the output layer names \n",
    "# in the architecture\n",
    "def get_output_layers(net):\n",
    "    \n",
    "    layer_names = net.getLayerNames()\n",
    "    \n",
    "    output_layers = [layer_names[i[0] - 1] for i in net.getUnconnectedOutLayers()]\n",
    "\n",
    "    return output_layers\n",
    "\n",
    "# function to draw bounding box on the detected object with class name\n",
    "def draw_bounding_box(img, class_id, confidence, x, y, x_plus_w, y_plus_h):\n",
    "\n",
    "    label = str(classes[class_id])\n",
    "\n",
    "    color = COLORS[class_id]\n",
    "\n",
    "    cv2.rectangle(img, (x,y), (x_plus_w,y_plus_h), color, 2)\n",
    "\n",
    "    cv2.putText(img, label, (x-10,y-10), cv2.FONT_HERSHEY_SIMPLEX, 0.5, color, 2)"
   ]
  },
  {
   "cell_type": "code",
   "execution_count": 4,
   "metadata": {},
   "outputs": [],
   "source": [
    "def init_detect_person():\n",
    "    # initialization\n",
    "    conf_threshold = 0.5\n",
    "    nms_threshold = 0.4\n",
    "    \n",
    "    return conf_threshold, nms_threshold"
   ]
  },
  {
   "cell_type": "code",
   "execution_count": 52,
   "metadata": {},
   "outputs": [],
   "source": [
    "def detect_object(outs, list_images, Width, Height):\n",
    "\n",
    "    i = 0\n",
    "\n",
    "    # for each detetion from each output layer \n",
    "    # get the confidence, class id, bounding box params\n",
    "    # and ignore weak detections (confidence < 0.5)\n",
    "    for out in outs:\n",
    "        for image in out:\n",
    "            image_name = list_images[i]\n",
    "            if not image_name in dict_obj_detected:\n",
    "                dict_image_danger[image_name] = {}\n",
    "                dict_obj_detected[image_name] = {}\n",
    "                dict_obj_detected[image_name][\"class_ids\"] = list()\n",
    "                dict_obj_detected[image_name][\"confidences\"] = list()\n",
    "                dict_obj_detected[image_name][\"boxes\"] = list()\n",
    "            for detection in image:\n",
    "                scores = detection[5:]\n",
    "                class_id = np.argmax(scores)\n",
    "                confidence = scores[class_id]\n",
    "                if confidence > 0.5:\n",
    "                    center_x = int(detection[0] * Width[i])\n",
    "                    center_y = int(detection[1] * Height[i])\n",
    "                    w = int(detection[2] * Width[i])\n",
    "                    h = int(detection[3] * Height[i])\n",
    "                    x = center_x - w / 2\n",
    "                    y = center_y - h / 2\n",
    "                    dict_obj_detected[image_name][\"class_ids\"].append(class_id)\n",
    "                    dict_obj_detected[image_name][\"confidences\"].append(float(confidence))\n",
    "                    dict_obj_detected[image_name][\"boxes\"].append([x, y, w, h])\n",
    "            i += 1\n",
    "        i = 0 \n",
    "\n",
    "    return dict_obj_detected\n",
    "\n",
    "def detect_danger(dict_obj_detected, idx_class=0):\n",
    "    \n",
    "    for image_name, row in dict_obj_detected.items():\n",
    "        if len(row[\"class_ids\"]) != 0 and idx_class in row[\"class_ids\"]: \n",
    "            dict_image_danger[image_name] = True\n",
    "        else:\n",
    "            dict_image_danger[image_name] = False\n",
    "    \n",
    "    return dict_image_danger"
   ]
  },
  {
   "cell_type": "code",
   "execution_count": 54,
   "metadata": {},
   "outputs": [
    {
     "ename": "NameError",
     "evalue": "name 'dict_image_danger' is not defined",
     "output_type": "error",
     "traceback": [
      "\u001b[0;31m---------------------------------------------------------------------------\u001b[0m",
      "\u001b[0;31mNameError\u001b[0m                                 Traceback (most recent call last)",
      "\u001b[0;32m<ipython-input-54-87fda1504b5f>\u001b[0m in \u001b[0;36m<module>\u001b[0;34m\u001b[0m\n\u001b[1;32m      5\u001b[0m \u001b[0mouts\u001b[0m \u001b[0;34m=\u001b[0m \u001b[0mnet\u001b[0m\u001b[0;34m.\u001b[0m\u001b[0mforward\u001b[0m\u001b[0;34m(\u001b[0m\u001b[0mget_output_layers\u001b[0m\u001b[0;34m(\u001b[0m\u001b[0mnet\u001b[0m\u001b[0;34m)\u001b[0m\u001b[0;34m)\u001b[0m\u001b[0;34m\u001b[0m\u001b[0;34m\u001b[0m\u001b[0m\n\u001b[1;32m      6\u001b[0m \u001b[0mdict_obj_detected\u001b[0m \u001b[0;34m=\u001b[0m \u001b[0;34m{\u001b[0m\u001b[0;34m}\u001b[0m\u001b[0;34m\u001b[0m\u001b[0;34m\u001b[0m\u001b[0m\n\u001b[0;32m----> 7\u001b[0;31m \u001b[0mdict_obj_detected\u001b[0m \u001b[0;34m=\u001b[0m \u001b[0mdetect_object\u001b[0m\u001b[0;34m(\u001b[0m\u001b[0mouts\u001b[0m\u001b[0;34m,\u001b[0m \u001b[0mlist_images\u001b[0m\u001b[0;34m,\u001b[0m \u001b[0mWidth\u001b[0m\u001b[0;34m,\u001b[0m \u001b[0mHeight\u001b[0m\u001b[0;34m)\u001b[0m\u001b[0;34m\u001b[0m\u001b[0;34m\u001b[0m\u001b[0m\n\u001b[0m\u001b[1;32m      8\u001b[0m \u001b[0mdict_danger\u001b[0m \u001b[0;34m=\u001b[0m \u001b[0mdetect_danger\u001b[0m\u001b[0;34m(\u001b[0m\u001b[0mdict_obj_detected\u001b[0m\u001b[0;34m)\u001b[0m\u001b[0;34m\u001b[0m\u001b[0;34m\u001b[0m\u001b[0m\n\u001b[1;32m      9\u001b[0m \u001b[0mprint\u001b[0m\u001b[0;34m(\u001b[0m\u001b[0mdict_danger\u001b[0m\u001b[0;34m)\u001b[0m\u001b[0;34m\u001b[0m\u001b[0;34m\u001b[0m\u001b[0m\n",
      "\u001b[0;32m<ipython-input-52-74f699970e8e>\u001b[0m in \u001b[0;36mdetect_object\u001b[0;34m(outs, list_images, Width, Height)\u001b[0m\n\u001b[1;32m     10\u001b[0m             \u001b[0mimage_name\u001b[0m \u001b[0;34m=\u001b[0m \u001b[0mlist_images\u001b[0m\u001b[0;34m[\u001b[0m\u001b[0mi\u001b[0m\u001b[0;34m]\u001b[0m\u001b[0;34m\u001b[0m\u001b[0;34m\u001b[0m\u001b[0m\n\u001b[1;32m     11\u001b[0m             \u001b[0;32mif\u001b[0m \u001b[0;32mnot\u001b[0m \u001b[0mimage_name\u001b[0m \u001b[0;32min\u001b[0m \u001b[0mdict_obj_detected\u001b[0m\u001b[0;34m:\u001b[0m\u001b[0;34m\u001b[0m\u001b[0;34m\u001b[0m\u001b[0m\n\u001b[0;32m---> 12\u001b[0;31m                 \u001b[0mdict_image_danger\u001b[0m\u001b[0;34m[\u001b[0m\u001b[0mimage_name\u001b[0m\u001b[0;34m]\u001b[0m \u001b[0;34m=\u001b[0m \u001b[0;34m{\u001b[0m\u001b[0;34m}\u001b[0m\u001b[0;34m\u001b[0m\u001b[0;34m\u001b[0m\u001b[0m\n\u001b[0m\u001b[1;32m     13\u001b[0m                 \u001b[0mdict_obj_detected\u001b[0m\u001b[0;34m[\u001b[0m\u001b[0mimage_name\u001b[0m\u001b[0;34m]\u001b[0m \u001b[0;34m=\u001b[0m \u001b[0;34m{\u001b[0m\u001b[0;34m}\u001b[0m\u001b[0;34m\u001b[0m\u001b[0;34m\u001b[0m\u001b[0m\n\u001b[1;32m     14\u001b[0m                 \u001b[0mdict_obj_detected\u001b[0m\u001b[0;34m[\u001b[0m\u001b[0mimage_name\u001b[0m\u001b[0;34m]\u001b[0m\u001b[0;34m[\u001b[0m\u001b[0;34m\"class_ids\"\u001b[0m\u001b[0;34m]\u001b[0m \u001b[0;34m=\u001b[0m \u001b[0mlist\u001b[0m\u001b[0;34m(\u001b[0m\u001b[0;34m)\u001b[0m\u001b[0;34m\u001b[0m\u001b[0;34m\u001b[0m\u001b[0m\n",
      "\u001b[0;31mNameError\u001b[0m: name 'dict_image_danger' is not defined"
     ]
    }
   ],
   "source": [
    "class_ids, confidences, boxes, conf_threshold, nms_threshold = init_detect_person()\n",
    "\n",
    "# run inference through the network\n",
    "# and gather predictions from output layers\n",
    "outs = net.forward(get_output_layers(net))\n",
    "dict_obj_detected = {}\n",
    "dict_obj_detected = detect_object(outs, list_images, Width, Height)\n",
    "dict_danger = detect_danger(dict_obj_detected)\n",
    "print(dict_danger)"
   ]
  },
  {
   "cell_type": "code",
   "execution_count": null,
   "metadata": {},
   "outputs": [],
   "source": []
  },
  {
   "cell_type": "code",
   "execution_count": null,
   "metadata": {},
   "outputs": [],
   "source": [
    "# apply non-max suppression\n",
    "indices = cv2.dnn.NMSBoxes(boxes, confidences, conf_threshold, nms_threshold)\n",
    "print(indices)\n",
    "# go through the detections remaining\n",
    "# after nms and draw bounding box\n",
    "for i in indices:\n",
    "    i = i[0]\n",
    "    box = boxes[i]\n",
    "    x = box[0]\n",
    "    y = box[1]\n",
    "    w = box[2]\n",
    "#     h = box[3]\n",
    "    \n",
    "    draw_bounding_box(image, class_ids[i], confidences[i], round(x), round(y), round(x+w), round(y+h))\n",
    "\n",
    "# # display output image\n",
    "# cv2.imshow(\"object detection\", image)\n",
    "\n",
    "# # wait until any key is pressed\n",
    "# cv2.waitKey()\n",
    "    \n",
    "#  # save output image to disk\n",
    "cv2.imwrite(\"object-detection.jpg\", image)\n",
    "\n",
    "# # release resources\n",
    "# cv2.destroyAllWindows()"
   ]
  },
  {
   "cell_type": "code",
   "execution_count": null,
   "metadata": {},
   "outputs": [],
   "source": [
    "# get all of the results above a threshold\n",
    "def get_boxes(boxes, labels, thresh):\n",
    "    v_boxes, v_labels, v_scores = list(), list(), list()\n",
    "    # enumerate all boxes\n",
    "    for box in boxes:\n",
    "        # enumerate all possible labels\n",
    "        for i in range(len(labels)):\n",
    "            # check if the threshold for this label is high enough\n",
    "            if box.classes[i] > thresh:\n",
    "                v_boxes.append(box)\n",
    "                v_labels.append(labels[i])\n",
    "                v_scores.append(box.classes[i]*100)\n",
    "                # don't break, many labels may trigger for one box\n",
    "    return v_boxes, v_labels, v_scores"
   ]
  },
  {
   "cell_type": "code",
   "execution_count": null,
   "metadata": {},
   "outputs": [],
   "source": [
    "for confidence in confidences:\n",
    "    print(confidence)"
   ]
  }
 ],
 "metadata": {
  "kernelspec": {
   "display_name": "Python 3",
   "language": "python",
   "name": "python3"
  },
  "language_info": {
   "codemirror_mode": {
    "name": "ipython",
    "version": 3
   },
   "file_extension": ".py",
   "mimetype": "text/x-python",
   "name": "python",
   "nbconvert_exporter": "python",
   "pygments_lexer": "ipython3",
   "version": "3.6.9"
  }
 },
 "nbformat": 4,
 "nbformat_minor": 4
}
