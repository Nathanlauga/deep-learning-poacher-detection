{
 "cells": [
  {
   "cell_type": "code",
   "execution_count": 1,
   "metadata": {},
   "outputs": [],
   "source": [
    "import cv2\n",
    "import argparse\n",
    "import numpy as np\n",
    "import utils\n",
    "import os \n",
    "import time\n",
    "import tensorflow as tf"
   ]
  },
  {
   "cell_type": "code",
   "execution_count": 5,
   "metadata": {},
   "outputs": [
    {
     "ename": "KeyboardInterrupt",
     "evalue": "",
     "output_type": "error",
     "traceback": [
      "\u001b[0;31m---------------------------------------------------------------------------\u001b[0m",
      "\u001b[0;31mKeyboardInterrupt\u001b[0m                         Traceback (most recent call last)",
      "\u001b[0;32m<timed eval>\u001b[0m in \u001b[0;36m<module>\u001b[0;34m\u001b[0m\n",
      "\u001b[0;32m/tf/utils.py\u001b[0m in \u001b[0;36mextract_frames\u001b[0;34m(file, out_dir, save, skip)\u001b[0m\n\u001b[1;32m     32\u001b[0m             \u001b[0mcv2\u001b[0m\u001b[0;34m.\u001b[0m\u001b[0mimwrite\u001b[0m\u001b[0;34m(\u001b[0m\u001b[0;34m\"%s/%s_frame%s.jpg\"\u001b[0m \u001b[0;34m%\u001b[0m \u001b[0;34m(\u001b[0m\u001b[0mout_dir\u001b[0m\u001b[0;34m,\u001b[0m \u001b[0mfname\u001b[0m\u001b[0;34m,\u001b[0m \u001b[0mcountFormated\u001b[0m\u001b[0;34m)\u001b[0m\u001b[0;34m,\u001b[0m \u001b[0mimage\u001b[0m\u001b[0;34m)\u001b[0m\u001b[0;34m\u001b[0m\u001b[0;34m\u001b[0m\u001b[0m\n\u001b[1;32m     33\u001b[0m \u001b[0;34m\u001b[0m\u001b[0m\n\u001b[0;32m---> 34\u001b[0;31m         \u001b[0msuccess\u001b[0m\u001b[0;34m,\u001b[0m \u001b[0mimage\u001b[0m \u001b[0;34m=\u001b[0m \u001b[0mvideo\u001b[0m\u001b[0;34m.\u001b[0m\u001b[0mread\u001b[0m\u001b[0;34m(\u001b[0m\u001b[0;34m)\u001b[0m\u001b[0;34m\u001b[0m\u001b[0;34m\u001b[0m\u001b[0m\n\u001b[0m\u001b[1;32m     35\u001b[0m         \u001b[0mcount\u001b[0m \u001b[0;34m+=\u001b[0m \u001b[0;36m1\u001b[0m\u001b[0;34m\u001b[0m\u001b[0;34m\u001b[0m\u001b[0m\n\u001b[1;32m     36\u001b[0m \u001b[0;34m\u001b[0m\u001b[0m\n",
      "\u001b[0;31mKeyboardInterrupt\u001b[0m: "
     ]
    }
   ],
   "source": [
    "%%time\n",
    "utils.extract_frames(\"/data/TrainSet/Drone1/Morning/1.1.1.mov\", out_dir='/data/out', save=True, skip=24)"
   ]
  },
  {
   "cell_type": "code",
   "execution_count": 2,
   "metadata": {},
   "outputs": [
    {
     "name": "stdout",
     "output_type": "stream",
     "text": [
      "We got  53  images\n",
      "CPU times: user 4.85 ms, sys: 613 µs, total: 5.46 ms\n",
      "Wall time: 138 ms\n"
     ]
    }
   ],
   "source": [
    "%%time\n",
    "# read input image\n",
    "list_images = utils.get_files_by_ext(\"/data/out\", \"jpg\")\n",
    "print(\"We got \", len(list_images), \" images\")"
   ]
  },
  {
   "cell_type": "code",
   "execution_count": 3,
   "metadata": {},
   "outputs": [
    {
     "name": "stdout",
     "output_type": "stream",
     "text": [
      "WARNING:tensorflow:No training configuration found in save file: the model was *not* compiled. Compile it manually.\n",
      "CPU times: user 4.36 s, sys: 435 ms, total: 4.8 s\n",
      "Wall time: 9.54 s\n"
     ]
    }
   ],
   "source": [
    "%%time\n",
    "classes_file = \"object-detection-opencv/yolov3.txt\"\n",
    "weights_file = \"object-detection-opencv/yolov3.weights\"\n",
    "conf_file = \"object-detection-opencv/yolov3.cfg\"\n",
    "\n",
    "conf_threshold = 0.5\n",
    "nms_threshold = 0.4\n",
    "\n",
    "# for image_path in list_images:\n",
    "image = cv2.imread(list_images[0])\n",
    "\n",
    "Width = image.shape[1]\n",
    "Height = image.shape[0]\n",
    "\n",
    "scale = 0.00392\n",
    "\n",
    "# read class names from text file\n",
    "classes = None\n",
    "with open(classes_file, 'r') as f:\n",
    "    classes = [line.strip() for line in f.readlines()]\n",
    "\n",
    "# generate different colors for different classes \n",
    "COLORS = np.random.uniform(0, 255, size=(len(classes), 3))\n",
    "\n",
    "# read pre-trained model and config file\n",
    "# reads the weights and config file and creates the network.\n",
    "# net = cv2.dnn.readNet(weights_file, conf_file)\n",
    "model_path = \"object-detection-opencv/yolov3.h5\"\n",
    "nb_out_layer = 3\n",
    "model = tf.keras.models.load_model(model_path)"
   ]
  },
  {
   "cell_type": "code",
   "execution_count": 4,
   "metadata": {},
   "outputs": [
    {
     "name": "stdout",
     "output_type": "stream",
     "text": [
      "The blobing phase took  1.49 s to be executed\n",
      "\n",
      "\n",
      "Is /data/out/1.1.1.mov_frame00240.jpg dangerous ? \t\t\t True\n",
      "Is /data/out/1.1.1.mov_frame00264.jpg dangerous ? \t\t\t True\n",
      "Is /data/out/1.1.1.mov_frame00288.jpg dangerous ? \t\t\t True\n",
      "Is /data/out/1.1.1.mov_frame00312.jpg dangerous ? \t\t\t True\n",
      "Is /data/out/1.1.1.mov_frame00336.jpg dangerous ? \t\t\t True\n",
      "Is /data/out/1.1.1.mov_frame00360.jpg dangerous ? \t\t\t True\n",
      "Is /data/out/1.1.1.mov_frame00384.jpg dangerous ? \t\t\t True\n",
      "Is /data/out/1.1.1.mov_frame00408.jpg dangerous ? \t\t\t True\n",
      "Is /data/out/1.1.1.mov_frame00432.jpg dangerous ? \t\t\t True\n",
      "Is /data/out/1.1.1.mov_frame00456.jpg dangerous ? \t\t\t True\n",
      "The detection took  10.24 s to be executed\n",
      "The draw of the bounding boxes and the image save took  19.28 s to be executed\n",
      "---------------------------------------------------------------------\n",
      "CPU times: user 20.1 s, sys: 1.11 s, total: 21.2 s\n",
      "Wall time: 20.8 s\n"
     ]
    }
   ],
   "source": [
    "%%time\n",
    "batch_size = 10\n",
    "batch_images = list()\n",
    "# for i in range(len(list_images)):\n",
    "for i in range(10, 20):\n",
    "    batch_images.append(list_images[i])\n",
    "    if i == len(list_images)-1 or len(batch_images)%batch_size==0:      \n",
    "        \n",
    "        time_min_blobing = time.time()\n",
    "        # create input blob \n",
    "        # prepares the input image to run through the deep neural network\n",
    "        blob = utils.image_to_matrix(batch_images)\n",
    "        blob = blob.transpose((0,2,3,1))\n",
    "        \n",
    "        # set input blob for the network\n",
    "#         net.setInput(blob)\n",
    "        time_max_blobing = time.time()\n",
    "        elapsed_time_blobing = time_max_blobing - time_min_blobing\n",
    "        print(\"The blobing phase took \", round(elapsed_time_blobing,2), \"s to be executed\")\n",
    "        print(\"\\n\")\n",
    "        \n",
    "        \n",
    "        time_min_detection = time.time()\n",
    "        # run inference through the network\n",
    "        # and gather predictions from output layers\n",
    "#         outs = net.forward(utils.get_output_layers(net))\n",
    "        outs = model.predict(blob)\n",
    "        \n",
    "        # identify objects into the list of images analyzed by the network\n",
    "        dict_obj_detected = {}\n",
    "        dict_obj_detected = utils.detect_object(outs, batch_images, Width, Height, nb_out_layer)\n",
    "\n",
    "        # identify pictures with at least one perso\n",
    "        dict_danger = utils.detect_danger(dict_obj_detected)\n",
    "        for image_name, is_dangerous in dict_danger.items():\n",
    "            print(\"Is\", image_name, \"dangerous ? \\t\\t\\t\" , is_dangerous)\n",
    "        time_max_detection = time.time()\n",
    "        elapsed_time_detection = time_max_detection - time_min_detection\n",
    "        print(\"The detection took \", round(elapsed_time_detection,2), \"s to be executed\")\n",
    "        \n",
    "        time_min_draw_bbox = time.time()\n",
    "        # Draw bounding boxes and save images\n",
    "        for image_path, image_items in dict_obj_detected.items():\n",
    "            utils.get_bounding_box(image_path, image_items, \\\n",
    "                                   classes, COLORS, conf_threshold, nms_threshold\n",
    "                                  )\n",
    "        time_max_draw_bbox = time.time()\n",
    "        elapsed_time_draw_bbox = time_max_draw_bbox - time_min_detection\n",
    "        print(\"The draw of the bounding boxes and the image save took \", round(elapsed_time_draw_bbox,2), \"s to be executed\")         \n",
    "        print(\"---------------------------------------------------------------------\")\n",
    "        \n",
    "        batch_images = list()\n",
    "    \n"
   ]
  },
  {
   "cell_type": "code",
   "execution_count": 16,
   "metadata": {},
   "outputs": [
    {
     "name": "stderr",
     "output_type": "stream",
     "text": [
      "100%|██████████| 94/94 [00:28<00:00,  3.30it/s]\n"
     ]
    }
   ],
   "source": [
    "utils.convert_frames_to_video(\"/data/out/output_with_bounding_box/\", \\\n",
    "                              \"/data/out/output_video/1.1.1_withBB.mp4\", \\\n",
    "                              24, (Width,Height))"
   ]
  }
 ],
 "metadata": {
  "kernelspec": {
   "display_name": "Python 3",
   "language": "python",
   "name": "python3"
  },
  "language_info": {
   "codemirror_mode": {
    "name": "ipython",
    "version": 3
   },
   "file_extension": ".py",
   "mimetype": "text/x-python",
   "name": "python",
   "nbconvert_exporter": "python",
   "pygments_lexer": "ipython3",
   "version": "3.6.9"
  }
 },
 "nbformat": 4,
 "nbformat_minor": 4
}
