{
 "cells": [
  {
   "cell_type": "code",
   "execution_count": 1,
   "metadata": {},
   "outputs": [],
   "source": [
    "import cv2\n",
    "import argparse\n",
    "import numpy as np\n",
    "import utils\n",
    "import os \n",
    "import time\n",
    "import tensorflow as tf\n",
    "from tensorflow.keras.preprocessing.image import img_to_array\n",
    "import gc\n",
    "import pandas as pd"
   ]
  },
  {
   "cell_type": "code",
   "execution_count": 2,
   "metadata": {},
   "outputs": [
    {
     "name": "stdout",
     "output_type": "stream",
     "text": [
      "Frames saved to `/data/out/` directory.\n",
      "CPU times: user 3min 35s, sys: 5.48 s, total: 3min 41s\n",
      "Wall time: 2min 31s\n"
     ]
    }
   ],
   "source": [
    "%%time\n",
    "utils.extract_frames(\"/data/TrainSet/Drone1/Morning/1.1.1.mov\", out_dir='/data/out', save=True, skip=30)"
   ]
  },
  {
   "cell_type": "code",
   "execution_count": 2,
   "metadata": {},
   "outputs": [],
   "source": [
    "def load_labels(path):\n",
    "    \"\"\" Load labels from path, removes useless boxes and keep only usefull columns\n",
    "    \"\"\"\n",
    "    labels = pd.read_csv(path)\n",
    "    labels = labels[labels['lost'] != 1]\n",
    "    labels = labels[labels['occluded'] != 1]\n",
    "    labels = labels[['frame','video']]\n",
    "    labels['class'] = 0\n",
    "    return labels.drop_duplicates()\n",
    "\n",
    "num_video = '1.1.1'\n",
    "labels_path = '/data/TrainSet/Labels/SingleActionLabels/train_labels.csv'\n",
    "labels = load_labels(labels_path)\n",
    "labels = labels[labels['video'] == num_video]\n",
    "np_labels = labels.to_numpy()\n",
    "label_max = np.amax(np_labels[:,0])\n",
    "\n",
    "for frame in range(label_max):\n",
    "    if frame not in np_labels[:,0]:\n",
    "        np_labels = np.vstack((np_labels, [frame, num_video, -1]))\n",
    "        np_labels[-1][0] = int(np_labels[-1][0])\n",
    "        np_labels[-1][2] = int(np_labels[-1][2])"
   ]
  },
  {
   "cell_type": "code",
   "execution_count": 3,
   "metadata": {},
   "outputs": [
    {
     "name": "stdout",
     "output_type": "stream",
     "text": [
      "We got  75  images\n",
      "CPU times: user 3.25 ms, sys: 1.09 ms, total: 4.34 ms\n",
      "Wall time: 34.5 ms\n"
     ]
    }
   ],
   "source": [
    "%%time\n",
    "# read input image\n",
    "list_images = list()\n",
    "list_images = utils.get_files_by_ext(\"/data/out/\", \"jpg\")\n",
    "print(\"We got \", len(list_images), \" images\")"
   ]
  },
  {
   "cell_type": "code",
   "execution_count": 4,
   "metadata": {},
   "outputs": [
    {
     "name": "stdout",
     "output_type": "stream",
     "text": [
      "CPU times: user 135 ms, sys: 311 ms, total: 446 ms\n",
      "Wall time: 2.08 s\n"
     ]
    }
   ],
   "source": [
    "%%time\n",
    "classes_file = \"object-detection-opencv/yolov3.txt\"\n",
    "weights_file = \"object-detection-opencv/yolov3.weights\"\n",
    "conf_file = \"object-detection-opencv/yolov3.cfg\"\n",
    "\n",
    "conf_threshold = 0.5\n",
    "nms_threshold = 0.4\n",
    "\n",
    "# for image_path in list_images:\n",
    "image = cv2.imread(list_images[0])\n",
    "\n",
    "Width = image.shape[1]\n",
    "Height = image.shape[0]\n",
    "\n",
    "scale = 0.00392\n",
    "\n",
    "# read class names from text file\n",
    "classes = None\n",
    "with open(classes_file, 'r') as f:\n",
    "    classes = [line.strip() for line in f.readlines()]\n",
    "\n",
    "# generate different colors for different classes \n",
    "COLORS = np.random.uniform(0, 255, size=(len(classes), 3))\n",
    "\n",
    "# read pre-trained model and config file\n",
    "# reads the weights and config file and creates the network.\n",
    "net = cv2.dnn.readNet(weights_file, conf_file)\n",
    "# model_path = \"object-detection-opencv/yolov3-tiny.h5\"\n",
    "nb_out_layer = 3\n",
    "# model = tf.keras.models.load_model(model_path)"
   ]
  },
  {
   "cell_type": "code",
   "execution_count": 5,
   "metadata": {
    "scrolled": true
   },
   "outputs": [
    {
     "name": "stdout",
     "output_type": "stream",
     "text": [
      "------ Start Analyzing from  9  ------\n",
      "The blobing phase took  1.38 s to be executed\n",
      "The detection took  4.59 s to be executed\n",
      "The metrics computation took  0.0 s to be executed\n",
      "The draw of the bounding boxes and the image save took  10.64 s to be executed\n",
      "---------------------------------------------------------------------\n",
      "------ Start Analyzing from  19  ------\n",
      "The blobing phase took  1.64 s to be executed\n",
      "The detection took  3.93 s to be executed\n",
      "The metrics computation took  0.0 s to be executed\n",
      "The draw of the bounding boxes and the image save took  9.91 s to be executed\n",
      "---------------------------------------------------------------------\n",
      "------ Start Analyzing from  29  ------\n",
      "The blobing phase took  1.55 s to be executed\n",
      "The detection took  4.41 s to be executed\n",
      "The metrics computation took  0.0 s to be executed\n",
      "The draw of the bounding boxes and the image save took  10.21 s to be executed\n",
      "---------------------------------------------------------------------\n",
      "------ Start Analyzing from  39  ------\n",
      "The blobing phase took  1.39 s to be executed\n",
      "The detection took  3.87 s to be executed\n",
      "The metrics computation took  0.0 s to be executed\n",
      "The draw of the bounding boxes and the image save took  9.26 s to be executed\n",
      "---------------------------------------------------------------------\n",
      "------ Start Analyzing from  49  ------\n",
      "The blobing phase took  1.38 s to be executed\n",
      "The detection took  3.92 s to be executed\n",
      "The metrics computation took  0.0 s to be executed\n",
      "The draw of the bounding boxes and the image save took  9.68 s to be executed\n",
      "---------------------------------------------------------------------\n",
      "------ Start Analyzing from  59  ------\n",
      "The blobing phase took  1.54 s to be executed\n",
      "The detection took  4.28 s to be executed\n",
      "The metrics computation took  0.0 s to be executed\n",
      "The draw of the bounding boxes and the image save took  10.0 s to be executed\n",
      "---------------------------------------------------------------------\n",
      "------ Start Analyzing from  69  ------\n",
      "The blobing phase took  1.5 s to be executed\n",
      "The detection took  3.88 s to be executed\n",
      "The metrics computation took  0.0 s to be executed\n",
      "The draw of the bounding boxes and the image save took  9.4 s to be executed\n",
      "---------------------------------------------------------------------\n",
      "------ Start Analyzing from  74  ------\n",
      "The blobing phase took  0.83 s to be executed\n",
      "The detection took  2.52 s to be executed\n",
      "The metrics computation took  0.0 s to be executed\n",
      "The draw of the bounding boxes and the image save took  5.48 s to be executed\n",
      "---------------------------------------------------------------------\n",
      "---------------------------------------------------------------------\n",
      "---------------------------------------------------------------------\n",
      "It took  31.4 s to do all the detections\n",
      "---------------------------------------------------------------------\n",
      "---------------------------------------------------------------------\n",
      "true_positive =  46\n",
      "true_negative =  0\n",
      "false_positive =  0\n",
      "false_negative =  29\n",
      "CPU times: user 1min 30s, sys: 3.41 s, total: 1min 34s\n",
      "Wall time: 1min 25s\n"
     ]
    }
   ],
   "source": [
    "%%time\n",
    "batch_size = 10\n",
    "batch_images = list()\n",
    "total_elapsed_time_detection = 0 \n",
    "total_elapsed_time_compute_metrics = 0\n",
    "true_positive = 0 # Good prediction + Prediction said Poacher\n",
    "true_negative = 0 # Good prediction + Prediction said no Poacher\n",
    "false_positive = 0 # False prediction + Prediction said Poacher \n",
    "false_negative = 0 # False prediction + Prediction said no Poacher\n",
    "\n",
    "for i in range(len(list_images)):\n",
    "# for i in range(0, 10):\n",
    "    batch_images.append(list_images[i])\n",
    "    if i == len(list_images)-1 or len(batch_images)%batch_size==0:      \n",
    "        print(\"------ Start Analyzing from \", i, \" ------\")\n",
    "        time_min_blobing = time.time()\n",
    "        # create input blob \n",
    "        # prepares the input image to run through the deep neural network\n",
    "        blob = utils.image_to_matrix(batch_images,resize_shape=(224,224))\n",
    "#         blob = blob.transpose((0,2,3,1))\n",
    "        \n",
    "        # set input blob for the network\n",
    "        net.setInput(blob)\n",
    "        time_max_blobing = time.time()\n",
    "        elapsed_time_blobing = time_max_blobing - time_min_blobing\n",
    "        print(\"The blobing phase took \", round(elapsed_time_blobing,2), \"s to be executed\")    \n",
    "        \n",
    "        time_min_detection = time.time()\n",
    "        # run inference through the network\n",
    "        # and gather predictions from output layers\n",
    "        outs = net.forward(utils.get_output_layers(net))\n",
    "#         outs = model.predict(blob)\n",
    "\n",
    "        # identify objects into the list of images analyzed by the network\n",
    "        dict_obj_detected = {}\n",
    "        dict_obj_detected = utils.detect_object(outs, batch_images, Width, Height, nb_out_layer)\n",
    "\n",
    "        # identify pictures with at least one perso\n",
    "        dict_danger = utils.detect_danger(dict_obj_detected)\n",
    "#         for image_name, is_dangerous in dict_danger.items():\n",
    "#             print(\"Is\", image_name, \"dangerous ? \\t\\t\\t\" , is_dangerous)\n",
    "        time_max_detection = time.time()\n",
    "        elapsed_time_detection = time_max_detection - time_min_detection\n",
    "        total_elapsed_time_detection += elapsed_time_detection\n",
    "        print(\"The detection took \", round(elapsed_time_detection,2), \"s to be executed\")\n",
    "        \n",
    "        #  Compute Metrics\n",
    "        time_min_compute_metrics = time.time()\n",
    "        for image_name, is_dangerous in dict_danger.items():\n",
    "            video_number, frame_number = utils.get_video_frame_number(image_name)\n",
    "            index_tuple = np.where((np_labels[:,0] == frame_number) & (np_labels[:,1] == video_number))\n",
    "            index = index_tuple[0][0]\n",
    "            y_true = np_labels[index,2]\n",
    "            if ((y_true == 0) & (is_dangerous)): # Get true_positive\n",
    "                true_positive += 1\n",
    "            elif ((y_true != 0) & (is_dangerous == False)): # Get true_negative\n",
    "                true_negative += 1\n",
    "            elif ((y_true != 0) & (is_dangerous)): # Get false_positive\n",
    "                false_positive += 1\n",
    "            elif ((y_true == 0) & (is_dangerous == False)): # Get false_negative\n",
    "                false_negative += 1     \n",
    "        time_max_compute_metrics = time.time()\n",
    "        elapsed_time_compute_metrics = time_max_compute_metrics - time_min_compute_metrics\n",
    "        total_elapsed_time_compute_metrics += elapsed_time_compute_metrics\n",
    "        print(\"The metrics computation took \", round(elapsed_time_compute_metrics,2), \"s to be executed\")\n",
    "        \n",
    "        \n",
    "        time_min_draw_bbox = time.time()\n",
    "        # Draw bounding boxes and save images\n",
    "        for image_path, image_items in dict_obj_detected.items():\n",
    "            utils.get_bounding_box(image_path, image_items, \\\n",
    "                                   classes, COLORS, conf_threshold, nms_threshold\n",
    "                                  )\n",
    "        time_max_draw_bbox = time.time()\n",
    "        elapsed_time_draw_bbox = time_max_draw_bbox - time_min_detection\n",
    "        print(\"The draw of the bounding boxes and the image save took \", round(elapsed_time_draw_bbox,2), \"s to be executed\")         \n",
    "        print(\"---------------------------------------------------------------------\")\n",
    "        \n",
    "        batch_images = list()\n",
    "\n",
    "print(\"---------------------------------------------------------------------\")\n",
    "print(\"---------------------------------------------------------------------\")\n",
    "print(\"It took \", round(total_elapsed_time_detection, 2), \"s to do all the detections\")\n",
    "# print(\"It took \", round(total_elapsed_time_compute_metrics, 2), \"s to compute all the metrics\")\n",
    "print(\"---------------------------------------------------------------------\")\n",
    "print(\"---------------------------------------------------------------------\")\n",
    "\n",
    "\n",
    "print(\"true_positive = \", true_positive)\n",
    "print(\"true_negative = \", true_negative)\n",
    "print(\"false_positive = \", false_positive)\n",
    "print(\"false_negative = \", false_negative)"
   ]
  },
  {
   "cell_type": "code",
   "execution_count": 6,
   "metadata": {},
   "outputs": [
    {
     "name": "stdout",
     "output_type": "stream",
     "text": [
      "accuracy =  61.33 %\n",
      "precision =  100.0 %\n",
      "recall =  61.33 %\n"
     ]
    }
   ],
   "source": [
    "total_pred = len(list_images)\n",
    "total_pred_pos = true_positive + false_positive\n",
    "total_real_pos = true_positive + false_negative\n",
    "accuracy = (true_positive + true_negative) / (total_pred) *100\n",
    "precision = (true_positive / total_pred_pos)*100 # Pertinence des alertes\n",
    "recall = (true_positive / total_real_pos)*100 # \n",
    "\n",
    "print(\"accuracy = \", round(accuracy,2), \"%\")\n",
    "print(\"precision = \" , round(precision,2), \"%\")\n",
    "print(\"recall = \", round(recall,2), \"%\")"
   ]
  },
  {
   "cell_type": "code",
   "execution_count": 7,
   "metadata": {},
   "outputs": [
    {
     "name": "stderr",
     "output_type": "stream",
     "text": [
      "100%|██████████| 75/75 [00:22<00:00,  3.30it/s]\n"
     ]
    }
   ],
   "source": [
    "utils.convert_frames_to_video(\"/data/out/output_with_bounding_box/\", \\\n",
    "                              \"/data/out/output_video/1.1.1_withBB.mp4\", \\\n",
    "                              24, (Width,Height))"
   ]
  },
  {
   "cell_type": "code",
   "execution_count": 15,
   "metadata": {},
   "outputs": [
    {
     "data": {
      "text/plain": [
       "array([[0, '2.2.4', 0],\n",
       "       [1, '2.2.4', 0],\n",
       "       [2, '2.2.4', 0],\n",
       "       ...,\n",
       "       [1247, '2.2.4', -1],\n",
       "       [1248, '2.2.4', -1],\n",
       "       [1249, '2.2.4', -1]], dtype=object)"
      ]
     },
     "execution_count": 15,
     "metadata": {},
     "output_type": "execute_result"
    }
   ],
   "source": [
    "np_labels"
   ]
  }
 ],
 "metadata": {
  "kernelspec": {
   "display_name": "Python 3",
   "language": "python",
   "name": "python3"
  },
  "language_info": {
   "codemirror_mode": {
    "name": "ipython",
    "version": 3
   },
   "file_extension": ".py",
   "mimetype": "text/x-python",
   "name": "python",
   "nbconvert_exporter": "python",
   "pygments_lexer": "ipython3",
   "version": "3.6.9"
  }
 },
 "nbformat": 4,
 "nbformat_minor": 4
}
