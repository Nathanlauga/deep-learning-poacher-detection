{
 "cells": [
  {
   "cell_type": "code",
   "execution_count": 1,
   "metadata": {},
   "outputs": [],
   "source": [
    "import cv2\n",
    "import argparse\n",
    "import numpy as np\n",
    "import utils\n",
    "import os \n",
    "import time\n",
    "import tensorflow as tf\n",
    "from tensorflow.keras.preprocessing.image import img_to_array\n",
    "import gc\n",
    "import pandas as pd"
   ]
  },
  {
   "cell_type": "code",
   "execution_count": null,
   "metadata": {},
   "outputs": [],
   "source": [
    "%%time\n",
    "utils.extract_frames(\"/data/TrainSet/Drone1/Morning/1.1.1.mov\", out_dir='/data/out', save=True, skip=1)"
   ]
  },
  {
   "cell_type": "code",
   "execution_count": 4,
   "metadata": {},
   "outputs": [
    {
     "data": {
      "text/plain": [
       "22"
      ]
     },
     "execution_count": 4,
     "metadata": {},
     "output_type": "execute_result"
    }
   ],
   "source": [
    "gc.collect()"
   ]
  },
  {
   "cell_type": "code",
   "execution_count": 5,
   "metadata": {},
   "outputs": [],
   "source": [
    "def load_labels(path):\n",
    "    \"\"\" Load labels from path, removes useless boxes and keep only usefull columns\n",
    "    \"\"\"\n",
    "    labels = pd.read_csv(path)\n",
    "    labels = labels[labels['lost'] != 1]\n",
    "    labels = labels[labels['occluded'] != 1]\n",
    "    labels = labels[['frame','video']]\n",
    "    labels['class'] = 0\n",
    "    return labels.drop_duplicates()\n",
    "\n",
    "num_video = '1.1.11'\n",
    "# labels_path = '/data/TrainSet/Labels/SingleActionLabels/train_labels.csv'\n",
    "labels_path = '/data/train_labels.csv'\n",
    "labels = load_labels(labels_path)\n",
    "labels = labels[labels['video'] == num_video]\n",
    "np_labels = labels.to_numpy()\n",
    "label_max = np.amax(np_labels[:,0])\n",
    "\n",
    "for frame in range(label_max):\n",
    "    if frame not in np_labels[:,0]:\n",
    "        np_labels = np.vstack((np_labels, [frame, num_video, -1]))\n",
    "        np_labels[-1][0] = int(np_labels[-1][0])\n",
    "        np_labels[-1][2] = int(np_labels[-1][2])"
   ]
  },
  {
   "cell_type": "code",
   "execution_count": 6,
   "metadata": {},
   "outputs": [
    {
     "name": "stdout",
     "output_type": "stream",
     "text": [
      "We got  2250  images\n",
      "CPU times: user 63.5 ms, sys: 74.9 ms, total: 138 ms\n",
      "Wall time: 2.12 s\n"
     ]
    }
   ],
   "source": [
    "%%time\n",
    "# read input image\n",
    "list_images = list()\n",
    "list_images = utils.get_files_by_ext(\"/data/out/\", \"jpg\")\n",
    "print(\"We got \", len(list_images), \" images\")"
   ]
  },
  {
   "cell_type": "code",
   "execution_count": 7,
   "metadata": {},
   "outputs": [
    {
     "name": "stdout",
     "output_type": "stream",
     "text": [
      "CPU times: user 111 ms, sys: 189 ms, total: 301 ms\n",
      "Wall time: 1.49 s\n"
     ]
    }
   ],
   "source": [
    "%%time\n",
    "classes_file = \"object-detection-opencv/yolov3.txt\"\n",
    "weights_file = \"object-detection-opencv/yolov3.weights\"\n",
    "conf_file = \"object-detection-opencv/yolov3.cfg\"\n",
    "\n",
    "conf_threshold = 0.5\n",
    "nms_threshold = 0.4\n",
    "\n",
    "# for image_path in list_images:\n",
    "image = cv2.imread(list_images[0])\n",
    "\n",
    "Width = image.shape[1]\n",
    "Height = image.shape[0]\n",
    "\n",
    "scale = 0.00392\n",
    "\n",
    "# read class names from text file\n",
    "classes = None\n",
    "with open(classes_file, 'r') as f:\n",
    "    classes = [line.strip() for line in f.readlines()]\n",
    "\n",
    "# generate different colors for different classes \n",
    "COLORS = np.random.uniform(0, 255, size=(len(classes), 3))\n",
    "\n",
    "# read pre-trained model and config file\n",
    "# reads the weights and config file and creates the network.\n",
    "# net = cv2.dnn.readNet(weights_file, conf_file)\n",
    "model_path = \"/data/model/yolov3.h5\"\n",
    "nb_out_layer = 3\n",
    "model = tf.keras.models.load_model(model_path)"
   ]
  },
  {
   "cell_type": "code",
   "execution_count": 8,
   "metadata": {},
   "outputs": [
    {
     "data": {
      "text/plain": [
       "[<tf.Tensor 'tf_op_layer_concat_4/Identity:0' shape=(None, None, None, 3, None) dtype=float32>,\n",
       " <tf.Tensor 'tf_op_layer_concat_7/Identity:0' shape=(None, None, None, 3, None) dtype=float32>,\n",
       " <tf.Tensor 'tf_op_layer_concat_10/Identity:0' shape=(None, None, None, 3, None) dtype=float32>]"
      ]
     },
     "execution_count": 8,
     "metadata": {},
     "output_type": "execute_result"
    }
   ],
   "source": [
    "model.output"
   ]
  },
  {
   "cell_type": "code",
   "execution_count": 20,
   "metadata": {},
   "outputs": [],
   "source": [
    "\n",
    "def postprocess_boxes(pred_bbox, org_img_shape, input_size, score_threshold):\n",
    "\n",
    "    valid_scale=[0, np.inf]\n",
    "    pred_bbox = np.array(pred_bbox)\n",
    "\n",
    "    pred_xywh = pred_bbox[:, 0:4]\n",
    "    pred_conf = pred_bbox[:, 4]\n",
    "    pred_prob = pred_bbox[:, 5:]\n",
    "\n",
    "    # # (1) (x, y, w, h) --> (xmin, ymin, xmax, ymax)\n",
    "    pred_coor = np.concatenate([pred_xywh[:, :2] - pred_xywh[:, 2:] * 0.5,\n",
    "                                pred_xywh[:, :2] + pred_xywh[:, 2:] * 0.5], axis=-1)\n",
    "    # # (2) (xmin, ymin, xmax, ymax) -> (xmin_org, ymin_org, xmax_org, ymax_org)\n",
    "    org_h, org_w = org_img_shape\n",
    "    resize_ratio = min(input_size / org_w, input_size / org_h)\n",
    "\n",
    "    dw = (input_size - resize_ratio * org_w) / 2\n",
    "    dh = (input_size - resize_ratio * org_h) / 2\n",
    "\n",
    "    pred_coor[:, 0::2] = 1.0 * (pred_coor[:, 0::2] - dw) / resize_ratio\n",
    "    pred_coor[:, 1::2] = 1.0 * (pred_coor[:, 1::2] - dh) / resize_ratio\n",
    "\n",
    "    # # (3) clip some boxes those are out of range\n",
    "    pred_coor = np.concatenate([np.maximum(pred_coor[:, :2], [0, 0]),\n",
    "                                np.minimum(pred_coor[:, 2:], [org_w - 1, org_h - 1])], axis=-1)\n",
    "    invalid_mask = np.logical_or((pred_coor[:, 0] > pred_coor[:, 2]), (pred_coor[:, 1] > pred_coor[:, 3]))\n",
    "    pred_coor[invalid_mask] = 0\n",
    "\n",
    "    # # (4) discard some invalid boxes\n",
    "    bboxes_scale = np.sqrt(np.multiply.reduce(pred_coor[:, 2:4] - pred_coor[:, 0:2], axis=-1))\n",
    "    scale_mask = np.logical_and((valid_scale[0] < bboxes_scale), (bboxes_scale < valid_scale[1]))\n",
    "\n",
    "    # # (5) discard some boxes with low scores\n",
    "    classes = np.argmax(pred_prob, axis=-1)\n",
    "    scores = pred_conf * pred_prob[np.arange(len(pred_coor)), classes]\n",
    "    score_mask = scores > score_threshold\n",
    "    mask = np.logical_and(scale_mask, score_mask)\n",
    "    coors, scores, classes = pred_coor[mask], scores[mask], classes[mask]\n",
    "\n",
    "    return np.concatenate([coors, scores[:, np.newaxis], classes[:, np.newaxis]], axis=-1)"
   ]
  },
  {
   "cell_type": "code",
   "execution_count": 21,
   "metadata": {},
   "outputs": [],
   "source": [
    "def detect_object(outs, list_images, Width, Height, nb_out_layer):    \n",
    "    i = 0\n",
    "    dict_obj_detected = {}\n",
    "\n",
    "    # for each detetion from each output layer \n",
    "    # get the confidence, class id, bounding box params\n",
    "    # and ignore weak detections (confidence < 0.5)\n",
    "    for out in outs:\n",
    "#         #Dimension1 = Number of Images\n",
    "#         #Dimension2 = X_out_grid * Y_out_grid * nb_out_layer\n",
    "#         #Dimension3 = 5 + nb_classes\n",
    "        out = out.reshape(out.shape[0],\\\n",
    "                          out.shape[1]*out.shape[2]*nb_out_layer,\\\n",
    "                          int(out.shape[4])\n",
    "                         )\n",
    "        \n",
    "        for image in out:\n",
    "            image_name = list_images[i]\n",
    "            if not image_name in dict_obj_detected:\n",
    "                dict_obj_detected[image_name] = {}\n",
    "                dict_obj_detected[image_name][\"class_ids\"] = list()\n",
    "                dict_obj_detected[image_name][\"confidences\"] = list()\n",
    "                dict_obj_detected[image_name][\"boxes\"] = list()\n",
    "            for detection in image:\n",
    "                \n",
    "                print(type(confidence))\n",
    "                lol()\n",
    "                \n",
    "                confidence = detection[4]\n",
    "                \n",
    "                scores = detection[5:]\n",
    "                class_id = np.argmax(scores)\n",
    "#                 confidence = scores[class_id]\n",
    "                if confidence > 0.2 and class_id == 0:\n",
    "#                     center_x = int(detection[0] * Width)\n",
    "#                     center_y = int(detection[1] * Height)\n",
    "#                     w = int(detection[2] * Width)\n",
    "#                     h = int(detection[3] * Height)\n",
    "#                     x = center_x - w / 2\n",
    "#                     y = center_y - h / 2\n",
    "                    \n",
    "                    x = detection[0] * (Width / 416)\n",
    "                    y = detection[1] * (Height / 416)\n",
    "                    w = detection[2] * (Width / 416)\n",
    "                    h = detection[3] * (Height / 416)\n",
    "                    \n",
    "                    dict_obj_detected[image_name][\"class_ids\"].append(class_id)\n",
    "                    dict_obj_detected[image_name][\"confidences\"].append(float(confidence))\n",
    "                    dict_obj_detected[image_name][\"boxes\"].append([x, y, w, h])\n",
    "            i += 1\n",
    "        i = 0 \n",
    "\n",
    "    return dict_obj_detected"
   ]
  },
  {
   "cell_type": "code",
   "execution_count": 22,
   "metadata": {},
   "outputs": [
    {
     "data": {
      "text/plain": [
       "0"
      ]
     },
     "execution_count": 22,
     "metadata": {},
     "output_type": "execute_result"
    }
   ],
   "source": [
    "gc.collect()"
   ]
  },
  {
   "cell_type": "code",
   "execution_count": 23,
   "metadata": {
    "scrolled": false
   },
   "outputs": [
    {
     "name": "stdout",
     "output_type": "stream",
     "text": [
      "------ Start Analyzing from  99  ------\n",
      "The blobing phase took  1.17 s to be executed\n",
      "The prediction took  8.91 s to be executed\n",
      "The metrics computation took  0.02 s to be executed\n",
      "The draw of the bounding boxes and the image save took  50.04 s to be executed\n",
      "---------------------------------------------------------------------\n",
      "------ Start Analyzing from  199  ------\n",
      "The blobing phase took  1.36 s to be executed\n"
     ]
    },
    {
     "ename": "KeyboardInterrupt",
     "evalue": "",
     "output_type": "error",
     "traceback": [
      "\u001b[0;31m---------------------------------------------------------------------------\u001b[0m",
      "\u001b[0;31mKeyboardInterrupt\u001b[0m                         Traceback (most recent call last)",
      "\u001b[0;32m<timed exec>\u001b[0m in \u001b[0;36m<module>\u001b[0;34m\u001b[0m\n",
      "\u001b[0;32m/tf/utils.py\u001b[0m in \u001b[0;36mdetect_object\u001b[0;34m(outs, list_images, Width, Height, nb_out_layer, skip_frames)\u001b[0m\n\u001b[1;32m    256\u001b[0m         \u001b[0;32mfor\u001b[0m \u001b[0mdetection\u001b[0m \u001b[0;32min\u001b[0m \u001b[0mimage\u001b[0m\u001b[0;34m:\u001b[0m\u001b[0;34m\u001b[0m\u001b[0;34m\u001b[0m\u001b[0m\n\u001b[1;32m    257\u001b[0m             \u001b[0mscores\u001b[0m \u001b[0;34m=\u001b[0m \u001b[0mdetection\u001b[0m\u001b[0;34m[\u001b[0m\u001b[0;36m5\u001b[0m\u001b[0;34m:\u001b[0m\u001b[0;34m]\u001b[0m\u001b[0;34m\u001b[0m\u001b[0;34m\u001b[0m\u001b[0m\n\u001b[0;32m--> 258\u001b[0;31m             \u001b[0mclass_id\u001b[0m \u001b[0;34m=\u001b[0m \u001b[0mnp\u001b[0m\u001b[0;34m.\u001b[0m\u001b[0margmax\u001b[0m\u001b[0;34m(\u001b[0m\u001b[0mscores\u001b[0m\u001b[0;34m)\u001b[0m\u001b[0;34m\u001b[0m\u001b[0;34m\u001b[0m\u001b[0m\n\u001b[0m\u001b[1;32m    259\u001b[0m             \u001b[0mconfidence\u001b[0m \u001b[0;34m=\u001b[0m \u001b[0mscores\u001b[0m\u001b[0;34m[\u001b[0m\u001b[0mclass_id\u001b[0m\u001b[0;34m]\u001b[0m\u001b[0;34m\u001b[0m\u001b[0;34m\u001b[0m\u001b[0m\n\u001b[1;32m    260\u001b[0m             \u001b[0;32mif\u001b[0m \u001b[0mconfidence\u001b[0m \u001b[0;34m>\u001b[0m \u001b[0;36m0.5\u001b[0m \u001b[0;32mand\u001b[0m \u001b[0mclass_id\u001b[0m \u001b[0;34m==\u001b[0m \u001b[0;36m0\u001b[0m\u001b[0;34m:\u001b[0m\u001b[0;34m\u001b[0m\u001b[0;34m\u001b[0m\u001b[0m\n",
      "\u001b[0;32m<__array_function__ internals>\u001b[0m in \u001b[0;36margmax\u001b[0;34m(*args, **kwargs)\u001b[0m\n",
      "\u001b[0;32m/usr/local/lib/python3.6/dist-packages/numpy/core/fromnumeric.py\u001b[0m in \u001b[0;36margmax\u001b[0;34m(a, axis, out)\u001b[0m\n\u001b[1;32m   1184\u001b[0m \u001b[0;34m\u001b[0m\u001b[0m\n\u001b[1;32m   1185\u001b[0m     \"\"\"\n\u001b[0;32m-> 1186\u001b[0;31m     \u001b[0;32mreturn\u001b[0m \u001b[0m_wrapfunc\u001b[0m\u001b[0;34m(\u001b[0m\u001b[0ma\u001b[0m\u001b[0;34m,\u001b[0m \u001b[0;34m'argmax'\u001b[0m\u001b[0;34m,\u001b[0m \u001b[0maxis\u001b[0m\u001b[0;34m=\u001b[0m\u001b[0maxis\u001b[0m\u001b[0;34m,\u001b[0m \u001b[0mout\u001b[0m\u001b[0;34m=\u001b[0m\u001b[0mout\u001b[0m\u001b[0;34m)\u001b[0m\u001b[0;34m\u001b[0m\u001b[0;34m\u001b[0m\u001b[0m\n\u001b[0m\u001b[1;32m   1187\u001b[0m \u001b[0;34m\u001b[0m\u001b[0m\n\u001b[1;32m   1188\u001b[0m \u001b[0;34m\u001b[0m\u001b[0m\n",
      "\u001b[0;32m/usr/local/lib/python3.6/dist-packages/numpy/core/fromnumeric.py\u001b[0m in \u001b[0;36m_wrapfunc\u001b[0;34m(obj, method, *args, **kwds)\u001b[0m\n\u001b[1;32m     53\u001b[0m \u001b[0;34m\u001b[0m\u001b[0m\n\u001b[1;32m     54\u001b[0m \u001b[0;34m\u001b[0m\u001b[0m\n\u001b[0;32m---> 55\u001b[0;31m \u001b[0;32mdef\u001b[0m \u001b[0m_wrapfunc\u001b[0m\u001b[0;34m(\u001b[0m\u001b[0mobj\u001b[0m\u001b[0;34m,\u001b[0m \u001b[0mmethod\u001b[0m\u001b[0;34m,\u001b[0m \u001b[0;34m*\u001b[0m\u001b[0margs\u001b[0m\u001b[0;34m,\u001b[0m \u001b[0;34m**\u001b[0m\u001b[0mkwds\u001b[0m\u001b[0;34m)\u001b[0m\u001b[0;34m:\u001b[0m\u001b[0;34m\u001b[0m\u001b[0;34m\u001b[0m\u001b[0m\n\u001b[0m\u001b[1;32m     56\u001b[0m     \u001b[0mbound\u001b[0m \u001b[0;34m=\u001b[0m \u001b[0mgetattr\u001b[0m\u001b[0;34m(\u001b[0m\u001b[0mobj\u001b[0m\u001b[0;34m,\u001b[0m \u001b[0mmethod\u001b[0m\u001b[0;34m,\u001b[0m \u001b[0;32mNone\u001b[0m\u001b[0;34m)\u001b[0m\u001b[0;34m\u001b[0m\u001b[0;34m\u001b[0m\u001b[0m\n\u001b[1;32m     57\u001b[0m     \u001b[0;32mif\u001b[0m \u001b[0mbound\u001b[0m \u001b[0;32mis\u001b[0m \u001b[0;32mNone\u001b[0m\u001b[0;34m:\u001b[0m\u001b[0;34m\u001b[0m\u001b[0;34m\u001b[0m\u001b[0m\n",
      "\u001b[0;31mKeyboardInterrupt\u001b[0m: "
     ]
    }
   ],
   "source": [
    "%%time\n",
    "batch_size = 100\n",
    "skip_frames = 10\n",
    "batch_images = list()\n",
    "total_elapsed_time_detection = 0 \n",
    "total_elapsed_time_compute_metrics = 0\n",
    "true_positive = 0 # Good prediction + Prediction said Poacher\n",
    "true_negative = 0 # Good prediction + Prediction said no Poacher\n",
    "false_positive = 0 # False prediction + Prediction said Poacher \n",
    "false_negative = 0 # False prediction + Prediction said no Poacher\n",
    "\n",
    "for i in range(len(list_images)):\n",
    "#for i in range(0, 100):\n",
    "    batch_images.append(list_images[i])\n",
    "    if i == len(list_images)-1 or len(batch_images)%batch_size==0:      \n",
    "        print(\"------ Start Analyzing from \", i, \" ------\")\n",
    "        time_min_blobing = time.time()\n",
    "        \n",
    "        # create input blob \n",
    "        # prepares the input image to run through the deep neural network\n",
    "        blob = utils.image_to_matrix(batch_images,resize_shape=(416,416), skip_frames=skip_frames)\n",
    "        \n",
    "        # set input blob for the network\n",
    "#         net.setInput(blob)\n",
    "        time_max_blobing = time.time()\n",
    "        elapsed_time_blobing = time_max_blobing - time_min_blobing\n",
    "        print(\"The blobing phase took \", round(elapsed_time_blobing,2), \"s to be executed\")    \n",
    "        \n",
    "        time_min_detection = time.time()\n",
    "        # run inference through the network\n",
    "        # and gather predictions from output layers\n",
    "        outs = net.forward(utils.get_output_layers(net))\n",
    "\n",
    "        # identify objects into the list of images analyzed by the network\n",
    "        dict_obj_detected = {}\n",
    "        dict_obj_detected = utils.detect_object(outs, batch_images, Width, Height, nb_out_layer, skip_frames)\n",
    "        time_max_detection = time.time()\n",
    "        elapsed_time_prediction = time_max_detection - time_min_detection\n",
    "        print(\"The prediction took \", round(elapsed_time_prediction,2), \"s to be executed\")\n",
    "        \n",
    "        #  Compute Metrics\n",
    "        time_min_compute_metrics = time.time()\n",
    "        for image_name, row in dict_obj_detected.items():\n",
    "            is_dangerous = row[\"is_dangerous\"]\n",
    "            video_number, frame_number = utils.get_video_frame_number(image_name)\n",
    "            index_tuple = np.where((np_labels[:,0] == frame_number) & (np_labels[:,1] == video_number))\n",
    "            index = index_tuple[0][0]\n",
    "            y_true = np_labels[index,2]\n",
    "            if ((y_true == 0) & (is_dangerous)): # Get true_positive\n",
    "                true_positive += 1\n",
    "            elif ((y_true != 0) & (is_dangerous == False)): # Get true_negative\n",
    "                true_negative += 1\n",
    "            elif ((y_true != 0) & (is_dangerous)): # Get false_positive\n",
    "                false_positive += 1\n",
    "            elif ((y_true == 0) & (is_dangerous == False)): # Get false_negative\n",
    "                false_negative += 1     \n",
    "        time_max_compute_metrics = time.time()\n",
    "        elapsed_time_compute_metrics = time_max_compute_metrics - time_min_compute_metrics\n",
    "        total_elapsed_time_compute_metrics += elapsed_time_compute_metrics\n",
    "        print(\"The metrics computation took \", round(elapsed_time_compute_metrics,2), \"s to be executed\")\n",
    "        \n",
    "        \n",
    "        time_min_draw_bbox = time.time()\n",
    "        # Draw bounding boxes and save images\n",
    "        for image_path, image_items in dict_obj_detected.items():\n",
    "            utils.get_bounding_box(image_path, image_items, \\\n",
    "                                   classes, COLORS, conf_threshold, nms_threshold\n",
    "                                  )\n",
    "        time_max_draw_bbox = time.time()\n",
    "        elapsed_time_draw_bbox = time_max_draw_bbox - time_min_detection\n",
    "        print(\"The draw of the bounding boxes and the image save took \", round(elapsed_time_draw_bbox,2), \"s to be executed\")         \n",
    "        print(\"---------------------------------------------------------------------\")\n",
    "        \n",
    "        batch_images = list()\n",
    "    gc.collect()\n",
    "\n",
    "print(\"---------------------------------------------------------------------\")\n",
    "print(\"---------------------------------------------------------------------\")\n",
    "print(\"It took \", round(total_elapsed_time_detection, 2), \"s to do all the detections\")\n",
    "# print(\"It took \", round(total_elapsed_time_compute_metrics, 2), \"s to compute all the metrics\")\n",
    "print(\"---------------------------------------------------------------------\")\n",
    "print(\"---------------------------------------------------------------------\")\n",
    "\n",
    "\n",
    "print(\"true_positive = \", true_positive)\n",
    "print(\"true_negative = \", true_negative)\n",
    "print(\"false_positive = \", false_positive)\n",
    "print(\"false_negative = \", false_negative)"
   ]
  },
  {
   "cell_type": "code",
   "execution_count": null,
   "metadata": {},
   "outputs": [],
   "source": [
    "total_pred = len(list_images)\n",
    "total_pred_pos = true_positive + false_positive\n",
    "total_real_pos = true_positive + false_negative\n",
    "accuracy = (true_positive + true_negative) / (total_pred) *100\n",
    "precision = (true_positive / total_pred_pos)*100 # Pertinence des alertes\n",
    "recall = (true_positive / total_real_pos)*100 # \n",
    "\n",
    "print(\"accuracy = \", round(accuracy,2), \"%\")\n",
    "print(\"precision = \" , round(precision,2), \"%\")\n",
    "print(\"recall = \", round(recall,2), \"%\")"
   ]
  },
  {
   "cell_type": "code",
   "execution_count": null,
   "metadata": {},
   "outputs": [],
   "source": [
    "utils.convert_frames_to_video(\"/data/out/output_with_bounding_box/\", \\\n",
    "                              \"/data/out/output_video/1.1.1_withBB.mp4\", \\\n",
    "                              5, (Width,Height))"
   ]
  }
 ],
 "metadata": {
  "kernelspec": {
   "display_name": "Python 3",
   "language": "python",
   "name": "python3"
  },
  "language_info": {
   "codemirror_mode": {
    "name": "ipython",
    "version": 3
   },
   "file_extension": ".py",
   "mimetype": "text/x-python",
   "name": "python",
   "nbconvert_exporter": "python",
   "pygments_lexer": "ipython3",
   "version": "3.6.9"
  }
 },
 "nbformat": 4,
 "nbformat_minor": 4
}
