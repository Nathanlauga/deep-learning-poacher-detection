{
 "cells": [
  {
   "cell_type": "code",
   "execution_count": 3,
   "metadata": {},
   "outputs": [],
   "source": [
    "import cv2\n",
    "import argparse\n",
    "import numpy as np\n",
    "import utils\n",
    "import os \n",
    "import time\n",
    "import tensorflow as tf\n",
    "from tensorflow.keras.preprocessing.image import img_to_array\n",
    "import gc"
   ]
  },
  {
   "cell_type": "code",
   "execution_count": null,
   "metadata": {},
   "outputs": [],
   "source": [
    "%%time\n",
    "utils.extract_frames(\"/data/TrainSet/Drone1/Morning/1.1.1.mov\", out_dir='/data/out', save=True, skip=200)"
   ]
  },
  {
   "cell_type": "code",
   "execution_count": 2,
   "metadata": {},
   "outputs": [
    {
     "name": "stdout",
     "output_type": "stream",
     "text": [
      "We got  28  images\n",
      "CPU times: user 2.13 ms, sys: 739 µs, total: 2.87 ms\n",
      "Wall time: 9.05 ms\n"
     ]
    }
   ],
   "source": [
    "%%time\n",
    "# read input image\n",
    "list_images = list()\n",
    "list_images = utils.get_files_by_ext(\"/data/out/\", \"jpg\")\n",
    "print(\"We got \", len(list_images), \" images\")"
   ]
  },
  {
   "cell_type": "code",
   "execution_count": 3,
   "metadata": {},
   "outputs": [
    {
     "name": "stdout",
     "output_type": "stream",
     "text": [
      "WARNING:tensorflow:No training configuration found in save file: the model was *not* compiled. Compile it manually.\n",
      "CPU times: user 820 ms, sys: 106 ms, total: 925 ms\n",
      "Wall time: 1.61 s\n"
     ]
    }
   ],
   "source": [
    "%%time\n",
    "classes_file = \"object-detection-opencv/yolov3.txt\"\n",
    "weights_file = \"object-detection-opencv/yolov3-tiny.weights\"\n",
    "conf_file = \"object-detection-opencv/yolov3-tiny.cfg\"\n",
    "\n",
    "conf_threshold = 0.5\n",
    "nms_threshold = 0.4\n",
    "\n",
    "# for image_path in list_images:\n",
    "image = cv2.imread(list_images[0])\n",
    "\n",
    "Width = image.shape[1]\n",
    "Height = image.shape[0]\n",
    "\n",
    "scale = 0.00392\n",
    "\n",
    "# read class names from text file\n",
    "classes = None\n",
    "with open(classes_file, 'r') as f:\n",
    "    classes = [line.strip() for line in f.readlines()]\n",
    "\n",
    "# generate different colors for different classes \n",
    "COLORS = np.random.uniform(0, 255, size=(len(classes), 3))\n",
    "\n",
    "# read pre-trained model and config file\n",
    "# reads the weights and config file and creates the network.\n",
    "# net = cv2.dnn.readNet(weights_file, conf_file)\n",
    "model_path = \"object-detection-opencv/yolov3-tiny.h5\"\n",
    "nb_out_layer = 3\n",
    "model = tf.keras.models.load_model(model_path)"
   ]
  },
  {
   "cell_type": "code",
   "execution_count": 5,
   "metadata": {},
   "outputs": [
    {
     "name": "stdout",
     "output_type": "stream",
     "text": [
      "The blobing phase took  0.21 s to be executed\n",
      "\n",
      "\n",
      "Is /data/out/ObamaWalk.mp4_frame00399.jpg dangerous ? \t\t\t True\n",
      "Is /data/out/ObamaWalk.mp4_frame00400.jpg dangerous ? \t\t\t True\n",
      "Is /data/out/ObamaWalk.mp4_frame00401.jpg dangerous ? \t\t\t True\n",
      "Is /data/out/ObamaWalk.mp4_frame00402.jpg dangerous ? \t\t\t True\n",
      "Is /data/out/ObamaWalk.mp4_frame00403.jpg dangerous ? \t\t\t True\n",
      "Is /data/out/ObamaWalk.mp4_frame00404.jpg dangerous ? \t\t\t True\n",
      "Is /data/out/ObamaWalk.mp4_frame00405.jpg dangerous ? \t\t\t True\n",
      "Is /data/out/ObamaWalk.mp4_frame00406.jpg dangerous ? \t\t\t True\n",
      "Is /data/out/ObamaWalk.mp4_frame00407.jpg dangerous ? \t\t\t True\n",
      "Is /data/out/ObamaWalk.mp4_frame00408.jpg dangerous ? \t\t\t True\n",
      "The detection took  1.61 s to be executed\n",
      "The draw of the bounding boxes and the image save took  2.23 s to be executed\n",
      "---------------------------------------------------------------------\n",
      "The blobing phase took  0.24 s to be executed\n",
      "\n",
      "\n",
      "Is /data/out/ObamaWalk.mp4_frame00409.jpg dangerous ? \t\t\t True\n",
      "Is /data/out/ObamaWalk.mp4_frame00410.jpg dangerous ? \t\t\t True\n",
      "Is /data/out/ObamaWalk.mp4_frame00411.jpg dangerous ? \t\t\t True\n",
      "Is /data/out/ObamaWalk.mp4_frame00412.jpg dangerous ? \t\t\t True\n",
      "Is /data/out/ObamaWalk.mp4_frame00413.jpg dangerous ? \t\t\t True\n",
      "Is /data/out/ObamaWalk.mp4_frame00414.jpg dangerous ? \t\t\t True\n",
      "Is /data/out/ObamaWalk.mp4_frame00415.jpg dangerous ? \t\t\t True\n",
      "Is /data/out/ObamaWalk.mp4_frame00416.jpg dangerous ? \t\t\t True\n",
      "Is /data/out/ObamaWalk.mp4_frame00417.jpg dangerous ? \t\t\t True\n",
      "Is /data/out/ObamaWalk.mp4_frame00418.jpg dangerous ? \t\t\t True\n",
      "The detection took  1.23 s to be executed\n",
      "The draw of the bounding boxes and the image save took  1.89 s to be executed\n",
      "---------------------------------------------------------------------\n",
      "The blobing phase took  0.18 s to be executed\n",
      "\n",
      "\n",
      "Is /data/out/ObamaWalk.mp4_frame00419.jpg dangerous ? \t\t\t True\n",
      "Is /data/out/ObamaWalk.mp4_frame00420.jpg dangerous ? \t\t\t True\n",
      "Is /data/out/ObamaWalk.mp4_frame00421.jpg dangerous ? \t\t\t True\n",
      "Is /data/out/ObamaWalk.mp4_frame00422.jpg dangerous ? \t\t\t True\n",
      "Is /data/out/ObamaWalk.mp4_frame00423.jpg dangerous ? \t\t\t True\n",
      "Is /data/out/ObamaWalk.mp4_frame00424.jpg dangerous ? \t\t\t True\n",
      "Is /data/out/ObamaWalk.mp4_frame00425.jpg dangerous ? \t\t\t True\n",
      "Is /data/out/ObamaWalk.mp4_frame00426.jpg dangerous ? \t\t\t True\n",
      "The detection took  1.19 s to be executed\n",
      "The draw of the bounding boxes and the image save took  1.7 s to be executed\n",
      "---------------------------------------------------------------------\n",
      "CPU times: user 7.14 s, sys: 431 ms, total: 7.57 s\n",
      "Wall time: 6.46 s\n"
     ]
    }
   ],
   "source": [
    "%%time\n",
    "batch_size = 10\n",
    "batch_images = list()\n",
    "for i in range(len(list_images)):\n",
    "# for i in range(0, 10):\n",
    "    batch_images.append(list_images[i])\n",
    "    if i == len(list_images)-1 or len(batch_images)%batch_size==0:      \n",
    "        \n",
    "        time_min_blobing = time.time()\n",
    "        # create input blob \n",
    "        # prepares the input image to run through the deep neural network\n",
    "        blob = utils.image_to_matrix(batch_images)\n",
    "        blob = blob.transpose((0,2,3,1))\n",
    "        \n",
    "        # set input blob for the network\n",
    "#         net.setInput(blob)\n",
    "        time_max_blobing = time.time()\n",
    "        elapsed_time_blobing = time_max_blobing - time_min_blobing\n",
    "        print(\"The blobing phase took \", round(elapsed_time_blobing,2), \"s to be executed\")\n",
    "        print(\"\\n\")\n",
    "        \n",
    "        \n",
    "        time_min_detection = time.time()\n",
    "        # run inference through the network\n",
    "        # and gather predictions from output layers\n",
    "#         outs = net.forward(utils.get_output_layers(net))\n",
    "        outs = model.predict(blob)\n",
    "\n",
    "        # identify objects into the list of images analyzed by the network\n",
    "        dict_obj_detected = {}\n",
    "        dict_obj_detected = utils.detect_object(outs, batch_images, Width, Height, nb_out_layer)\n",
    "\n",
    "        # identify pictures with at least one perso\n",
    "        dict_danger = utils.detect_danger(dict_obj_detected)\n",
    "        for image_name, is_dangerous in dict_danger.items():\n",
    "            print(\"Is\", image_name, \"dangerous ? \\t\\t\\t\" , is_dangerous)\n",
    "        time_max_detection = time.time()\n",
    "        elapsed_time_detection = time_max_detection - time_min_detection\n",
    "        print(\"The detection took \", round(elapsed_time_detection,2), \"s to be executed\")\n",
    "        \n",
    "        time_min_draw_bbox = time.time()\n",
    "        # Draw bounding boxes and save images\n",
    "        for image_path, image_items in dict_obj_detected.items():\n",
    "            utils.get_bounding_box(image_path, image_items, \\\n",
    "                                   classes, COLORS, conf_threshold, nms_threshold\n",
    "                                  )\n",
    "        time_max_draw_bbox = time.time()\n",
    "        elapsed_time_draw_bbox = time_max_draw_bbox - time_min_detection\n",
    "        print(\"The draw of the bounding boxes and the image save took \", round(elapsed_time_draw_bbox,2), \"s to be executed\")         \n",
    "        print(\"---------------------------------------------------------------------\")\n",
    "        \n",
    "        batch_images = list()\n",
    "    \n"
   ]
  },
  {
   "cell_type": "code",
   "execution_count": null,
   "metadata": {},
   "outputs": [],
   "source": [
    "utils.convert_frames_to_video(\"/data/out/output_with_bounding_box/\", \\\n",
    "                              \"/data/out/output_video/1.1.1_withBB.mp4\", \\\n",
    "                              24, (Width,Height))"
   ]
  }
 ],
 "metadata": {
  "kernelspec": {
   "display_name": "Python 3",
   "language": "python",
   "name": "python3"
  },
  "language_info": {
   "codemirror_mode": {
    "name": "ipython",
    "version": 3
   },
   "file_extension": ".py",
   "mimetype": "text/x-python",
   "name": "python",
   "nbconvert_exporter": "python",
   "pygments_lexer": "ipython3",
   "version": "3.6.9"
  }
 },
 "nbformat": 4,
 "nbformat_minor": 4
}
