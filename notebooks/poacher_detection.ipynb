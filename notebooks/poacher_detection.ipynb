{
 "cells": [
  {
   "cell_type": "code",
   "execution_count": 2,
   "metadata": {},
   "outputs": [],
   "source": [
    "import cv2\n",
    "import argparse\n",
    "import numpy as np\n",
    "import utils\n",
    "import os \n",
    "import time"
   ]
  },
  {
   "cell_type": "code",
   "execution_count": 2,
   "metadata": {},
   "outputs": [
    {
     "name": "stdout",
     "output_type": "stream",
     "text": [
      "Frames saved to `/data/out/` directory.\n",
      "CPU times: user 3min 55s, sys: 5.85 s, total: 4min 1s\n",
      "Wall time: 2min 46s\n"
     ]
    }
   ],
   "source": [
    "%%time\n",
    "utils.extract_frames(\"/data/TrainSet/Drone1/Morning/1.1.1.mov\", out_dir='/data/out', save=True, skip=25)"
   ]
  },
  {
   "cell_type": "code",
   "execution_count": 5,
   "metadata": {},
   "outputs": [
    {
     "name": "stdout",
     "output_type": "stream",
     "text": [
      "We got  180  images\n",
      "CPU times: user 14.8 ms, sys: 10.5 ms, total: 25.3 ms\n",
      "Wall time: 906 ms\n"
     ]
    }
   ],
   "source": [
    "%%time\n",
    "# read input image\n",
    "list_images = utils.get_files_by_ext(\"/data/out\", \"jpg\")\n",
    "print(\"We got \", len(list_images), \" images\")"
   ]
  },
  {
   "cell_type": "code",
   "execution_count": 8,
   "metadata": {},
   "outputs": [
    {
     "name": "stdout",
     "output_type": "stream",
     "text": [
      "The blobing phase took  1.51 s to be executed\n",
      "\n",
      "\n",
      "3\n",
      "(10, 507, 85)\n",
      "(10, 2028, 85)\n",
      "(10, 8112, 85)\n",
      "Is /data/out/1.1.1.mov_frame00250.jpg dangerous ? \t\t\t True\n",
      "Is /data/out/1.1.1.mov_frame00275.jpg dangerous ? \t\t\t True\n",
      "Is /data/out/1.1.1.mov_frame00300.jpg dangerous ? \t\t\t True\n",
      "Is /data/out/1.1.1.mov_frame00325.jpg dangerous ? \t\t\t True\n",
      "Is /data/out/1.1.1.mov_frame00350.jpg dangerous ? \t\t\t True\n",
      "Is /data/out/1.1.1.mov_frame00375.jpg dangerous ? \t\t\t True\n",
      "Is /data/out/1.1.1.mov_frame00400.jpg dangerous ? \t\t\t True\n",
      "Is /data/out/1.1.1.mov_frame00425.jpg dangerous ? \t\t\t True\n",
      "Is /data/out/1.1.1.mov_frame00450.jpg dangerous ? \t\t\t True\n",
      "Is /data/out/1.1.1.mov_frame00475.jpg dangerous ? \t\t\t True\n",
      "The detection took  12.81 s to be executed\n",
      "The draw of the bounding boxes and the image save took  19.0 s to be executed\n",
      "---------------------------------------------------------------------\n",
      "CPU times: user 28.8 s, sys: 486 ms, total: 29.3 s\n",
      "Wall time: 23 s\n"
     ]
    }
   ],
   "source": [
    "%%time\n",
    "classes_file = \"object-detection-opencv/yolov3.txt\"\n",
    "weights_file = \"object-detection-opencv/yolov3.weights\"\n",
    "conf_file = \"object-detection-opencv/yolov3.cfg\"\n",
    "\n",
    "conf_threshold = 0.5\n",
    "nms_threshold = 0.4\n",
    "\n",
    "# for image_path in list_images:\n",
    "image = cv2.imread(list_images[0])\n",
    "\n",
    "Width = image.shape[1]\n",
    "Height = image.shape[0]\n",
    "\n",
    "scale = 0.00392\n",
    "\n",
    "# read class names from text file\n",
    "classes = None\n",
    "with open(classes_file, 'r') as f:\n",
    "    classes = [line.strip() for line in f.readlines()]\n",
    "\n",
    "# generate different colors for different classes \n",
    "COLORS = np.random.uniform(0, 255, size=(len(classes), 3))\n",
    "\n",
    "# read pre-trained model and config file\n",
    "# reads the weights and config file and creates the network.\n",
    "net = cv2.dnn.readNet(weights_file, conf_file)\n",
    "\n",
    "batch_size = 10\n",
    "batch_images = list()\n",
    "\n",
    "# for i in range(len(list_images)):\n",
    "for i in range(10, 20):\n",
    "    batch_images.append(list_images[i])\n",
    "    if i == len(list_images)-1 or len(batch_images)%batch_size==0:      \n",
    "        \n",
    "        time_min_blobing = time.time()\n",
    "        # create input blob \n",
    "        # prepares the input image to run through the deep neural network\n",
    "        blob = utils.image_to_matrix(batch_images)\n",
    "\n",
    "        # set input blob for the network\n",
    "        net.setInput(blob)\n",
    "        time_max_blobing = time.time()\n",
    "        elapsed_time_blobing = time_max_blobing - time_min_blobing\n",
    "        print(\"The blobing phase took \", round(elapsed_time_blobing,2), \"s to be executed\")\n",
    "        print(\"\\n\")\n",
    "        \n",
    "        \n",
    "        time_min_detection = time.time()\n",
    "        # run inference through the network\n",
    "        # and gather predictions from output layers\n",
    "        outs = net.forward(utils.get_output_layers(net))\n",
    "\n",
    "        # identify objects into the list of images analyzed by the network\n",
    "        dict_obj_detected = {}\n",
    "        dict_obj_detected = utils.detect_object(outs, batch_images, Width, Height)\n",
    "\n",
    "        # identify pictures with at least one perso\n",
    "        dict_danger = utils.detect_danger(dict_obj_detected)\n",
    "        for image_name, is_dangerous in dict_danger.items():\n",
    "            print(\"Is\", image_name, \"dangerous ? \\t\\t\\t\" , is_dangerous)\n",
    "        time_max_detection = time.time()\n",
    "        elapsed_time_detection = time_max_detection - time_min_detection\n",
    "        print(\"The detection took \", round(elapsed_time_detection,2), \"s to be executed\")\n",
    "        \n",
    "        time_min_draw_bbox = time.time()\n",
    "        # Draw bounding boxes and save images\n",
    "        for image_path, image_items in dict_obj_detected.items():\n",
    "            utils.get_bounding_box(image_path, image_items, \\\n",
    "                                   classes, COLORS, conf_threshold, nms_threshold\n",
    "                                  )\n",
    "        time_max_draw_bbox = time.time()\n",
    "        elapsed_time_draw_bbox = time_max_draw_bbox - time_min_detection\n",
    "        print(\"The draw of the bounding boxes and the image save took \", round(elapsed_time_draw_bbox,2), \"s to be executed\")         \n",
    "        print(\"---------------------------------------------------------------------\")\n",
    "        \n",
    "        batch_images = list()\n",
    "    \n"
   ]
  },
  {
   "cell_type": "code",
   "execution_count": 3,
   "metadata": {},
   "outputs": [
    {
     "name": "stderr",
     "output_type": "stream",
     "text": [
      "100%|██████████| 90/90 [00:37<00:00,  2.42it/s]\n",
      "100%|██████████| 90/90 [04:28<00:00,  2.99s/it]\n"
     ]
    }
   ],
   "source": [
    "utils.convert_frames_to_video(\"/data/out/output_with_bounding_box/\", \"/data/out/output_video/video.mp4\", 5)"
   ]
  }
 ],
 "metadata": {
  "kernelspec": {
   "display_name": "Python 3",
   "language": "python",
   "name": "python3"
  },
  "language_info": {
   "codemirror_mode": {
    "name": "ipython",
    "version": 3
   },
   "file_extension": ".py",
   "mimetype": "text/x-python",
   "name": "python",
   "nbconvert_exporter": "python",
   "pygments_lexer": "ipython3",
   "version": "3.6.9"
  }
 },
 "nbformat": 4,
 "nbformat_minor": 4
}
