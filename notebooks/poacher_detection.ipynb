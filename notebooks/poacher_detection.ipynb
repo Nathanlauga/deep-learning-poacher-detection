{
 "cells": [
  {
   "cell_type": "code",
   "execution_count": 9,
   "metadata": {},
   "outputs": [],
   "source": [
    "import cv2\n",
    "import argparse\n",
    "import numpy as np\n",
    "import utils"
   ]
  },
  {
   "cell_type": "code",
   "execution_count": 10,
   "metadata": {},
   "outputs": [
    {
     "name": "stdout",
     "output_type": "stream",
     "text": [
      "CPU times: user 11.4 s, sys: 190 ms, total: 11.6 s\n",
      "Wall time: 7.1 s\n"
     ]
    }
   ],
   "source": [
    "%%time\n",
    "# read input image\n",
    "list_images = utils.get_files_by_ext(\"object-detection-opencv/\", \"jpg\")\n",
    "classes_file = \"object-detection-opencv/yolov3.txt\"\n",
    "weights_file = \"object-detection-opencv/yolov3.weights\"\n",
    "conf_file = \"object-detection-opencv/yolov3.cfg\"\n",
    "\n",
    "conf_threshold = 0.5\n",
    "nms_threshold = 0.4\n",
    "\n",
    "Width = list()\n",
    "Height = list()\n",
    "for image_path in list_images:\n",
    "    image = cv2.imread(image_path)\n",
    "\n",
    "    Width.append(image.shape[1])\n",
    "    Height.append(image.shape[0])\n",
    "\n",
    "scale = 0.00392\n",
    "\n",
    "# read class names from text file\n",
    "classes = None\n",
    "with open(classes_file, 'r') as f:\n",
    "    classes = [line.strip() for line in f.readlines()]\n",
    "\n",
    "# generate different colors for different classes \n",
    "COLORS = np.random.uniform(0, 255, size=(len(classes), 3))\n",
    "\n",
    "# create input blob \n",
    "# prepares the input image to run through the deep neural network\n",
    "blob = utils.image_to_matrix(list_images)\n",
    "\n",
    "# read pre-trained model and config file\n",
    "# reads the weights and config file and creates the network.\n",
    "net = cv2.dnn.readNet(weights_file, conf_file)\n",
    "\n",
    "# set input blob for the network\n",
    "net.setInput(blob)\n",
    "\n",
    "# run inference through the network\n",
    "# and gather predictions from output layers\n",
    "outs = net.forward(utils.get_output_layers(net))\n"
   ]
  },
  {
   "cell_type": "code",
   "execution_count": 11,
   "metadata": {},
   "outputs": [
    {
     "name": "stdout",
     "output_type": "stream",
     "text": [
      "Is object-detection-opencv/344.jpg dangerous ? \t\t\t True\n",
      "Is object-detection-opencv/dog.jpg dangerous ? \t\t\t False\n",
      "Is object-detection-opencv/object-detection.jpg dangerous ? \t\t\t False\n",
      "Is object-detection-opencv/test.jpg dangerous ? \t\t\t True\n",
      "Is object-detection-opencv/test_no_person.jpg dangerous ? \t\t\t False\n",
      "CPU times: user 477 ms, sys: 4.04 ms, total: 481 ms\n",
      "Wall time: 478 ms\n"
     ]
    }
   ],
   "source": [
    "%%time\n",
    "# identify objects into the list of images analyzed by the network\n",
    "dict_obj_detected = {}\n",
    "dict_obj_detected = utils.detect_object(outs, list_images, Width, Height)\n",
    "\n",
    "# identify pictures with at least one perso\n",
    "dict_danger = utils.detect_danger(dict_obj_detected)\n",
    "for image_name, is_dangerous in dict_danger.items():\n",
    "    print(\"Is\", image_name, \"dangerous ? \\t\\t\\t\" , is_dangerous)"
   ]
  },
  {
   "cell_type": "code",
   "execution_count": 12,
   "metadata": {},
   "outputs": [],
   "source": [
    "# Draw bounding boxes and save images\n",
    "for image_path, image_items in dict_obj_detected.items():\n",
    "    utils.get_bounding_box(image_path, image_items, classes, COLORS, conf_threshold, nms_threshold)"
   ]
  }
 ],
 "metadata": {
  "kernelspec": {
   "display_name": "Python 3",
   "language": "python",
   "name": "python3"
  },
  "language_info": {
   "codemirror_mode": {
    "name": "ipython",
    "version": 3
   },
   "file_extension": ".py",
   "mimetype": "text/x-python",
   "name": "python",
   "nbconvert_exporter": "python",
   "pygments_lexer": "ipython3",
   "version": "3.6.9"
  }
 },
 "nbformat": 4,
 "nbformat_minor": 4
}
