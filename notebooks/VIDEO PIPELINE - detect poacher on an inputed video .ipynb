{
 "cells": [
  {
   "cell_type": "markdown",
   "metadata": {},
   "source": [
    "# VIDEO PIPELINE - detect poacher on an inputed video \n",
    "----\n",
    "\n",
    "## Load packages"
   ]
  },
  {
   "cell_type": "code",
   "execution_count": 2,
   "metadata": {},
   "outputs": [],
   "source": [
    "from poacher.model import (yolo_loss)\n",
    "from poacher import utils\n",
    "from poacher import config\n",
    "from poacher import metrics\n",
    "\n",
    "import cv2\n",
    "import time\n",
    "import numpy as np\n",
    "import pandas as pd\n",
    "import tensorflow as tf\n",
    "import datetime\n",
    "from tensorflow.keras import backend as K\n",
    "\n",
    "from tqdm import tqdm\n",
    "import os\n",
    "import matplotlib.pyplot as plt\n",
    "import gc\n",
    "from IPython.display import display"
   ]
  },
  {
   "cell_type": "code",
   "execution_count": 3,
   "metadata": {},
   "outputs": [
    {
     "name": "stdout",
     "output_type": "stream",
     "text": [
      "tensorflow version: 2.1.0\n"
     ]
    }
   ],
   "source": [
    "print('tensorflow version:', tf.__version__)\n",
    "\n",
    "physical_devices = tf.config.experimental.list_physical_devices('GPU')\n",
    "\n",
    "if len(physical_devices) > 0:\n",
    "    tf.config.experimental.set_memory_growth(physical_devices[0], True)\n",
    "    tf.per_process_gpu_memory_fraction = 0.3\n",
    "    print('Using GPU')"
   ]
  },
  {
   "cell_type": "markdown",
   "metadata": {},
   "source": [
    "## Load model"
   ]
  },
  {
   "cell_type": "code",
   "execution_count": 4,
   "metadata": {},
   "outputs": [],
   "source": [
    "def load_model(model_path):\n",
    "    \n",
    "    t0 = time.time()\n",
    "    model = tf.keras.models.load_model(model_path, compile=False)\n",
    "    \n",
    "    optimizer = tf.keras.optimizers.Adam(learning_rate=1e-3)\n",
    "\n",
    "    model.compile(optimizer=optimizer, \n",
    "                  loss={\n",
    "                      'tf_op_layer_concat_4': lambda y_true, y_pred: yolo_loss(y_true, y_pred), # 52x52\n",
    "                      'tf_op_layer_concat_7': lambda y_true, y_pred: yolo_loss(y_true, y_pred), # 26x26\n",
    "                      'tf_op_layer_concat_10': lambda y_true, y_pred: yolo_loss(y_true, y_pred),# 13x13\n",
    "                  }\n",
    "                 )\n",
    "    print('model loaded in %.2fs'%(time.time() - t0))\n",
    "    return model"
   ]
  },
  {
   "cell_type": "code",
   "execution_count": 5,
   "metadata": {},
   "outputs": [
    {
     "name": "stdout",
     "output_type": "stream",
     "text": [
      "model loaded in 7.96s\n"
     ]
    },
    {
     "data": {
      "text/plain": [
       "0"
      ]
     },
     "execution_count": 5,
     "metadata": {},
     "output_type": "execute_result"
    }
   ],
   "source": [
    "model_path = 'save/20200417_model_trained.h5'\n",
    "model = load_model(model_path)\n",
    "gc.collect()"
   ]
  },
  {
   "cell_type": "code",
   "execution_count": 6,
   "metadata": {},
   "outputs": [
    {
     "data": {
      "text/plain": [
       "[<tf.Tensor 'tf_op_layer_concat_4/Identity:0' shape=(None, None, None, None, None) dtype=float32>,\n",
       " <tf.Tensor 'tf_op_layer_concat_7/Identity:0' shape=(None, None, None, None, None) dtype=float32>,\n",
       " <tf.Tensor 'tf_op_layer_concat_10/Identity:0' shape=(None, None, None, None, None) dtype=float32>]"
      ]
     },
     "execution_count": 6,
     "metadata": {},
     "output_type": "execute_result"
    }
   ],
   "source": [
    "model.output"
   ]
  },
  {
   "cell_type": "code",
   "execution_count": 7,
   "metadata": {
    "scrolled": true
   },
   "outputs": [],
   "source": [
    "# model.summary()"
   ]
  },
  {
   "cell_type": "markdown",
   "metadata": {},
   "source": [
    "## Load video and predict"
   ]
  },
  {
   "cell_type": "code",
   "execution_count": 8,
   "metadata": {},
   "outputs": [],
   "source": [
    "def get_next_frame(vid):\n",
    "    \"\"\"\n",
    "    \"\"\"\n",
    "    # Get next frame\n",
    "    return_value, frame = vid.read()\n",
    "    \n",
    "    # If there is a frame then change color scale\n",
    "    if return_value:\n",
    "#         frame = cv2.cvtColor(frame, cv2.COLOR_BGR2RGB)\n",
    "        return frame\n",
    "    else:\n",
    "        return None\n",
    "    \n",
    "def image_preprocess(image, target_size):\n",
    "\n",
    "    ih, iw    = target_size\n",
    "    h,  w, _  = image.shape\n",
    "\n",
    "    scale = min(iw/w, ih/h)\n",
    "    nw, nh  = int(scale * w), int(scale * h)\n",
    "    image_resized = cv2.resize(image, (nw, nh))\n",
    "\n",
    "    image_paded = np.full(shape=[ih, iw, 3], fill_value=128.0)\n",
    "    dw, dh = (iw - nw) // 2, (ih-nh) // 2\n",
    "    image_paded[dh:nh+dh, dw:nw+dw, :] = image_resized\n",
    "    image_paded = image_paded / 255.\n",
    "\n",
    "    return image_paded\n",
    "\n",
    "def get_image_preprocess(frame):\n",
    "\n",
    "    input_size = config.INPUT_SIZE\n",
    "    # Preprocess image (change size and convert to np array)\n",
    "    frame_size = frame.shape[:2]\n",
    "    image_data = image_preprocess(np.copy(frame), [input_size, input_size])\n",
    "    image_data = image_data[np.newaxis, ...].astype(np.float32)\n",
    "    \n",
    "    return image_data\n",
    "\n",
    "def predict(X, model):\n",
    "    t0 = time.time()\n",
    "    pred = model.predict_on_batch(X)\n",
    "    return pred, time.time() - t0\n",
    "\n",
    "def postprocess_pred_bbox(pred_bbox, frame_size):\n",
    "    \n",
    "    input_size = config.INPUT_SIZE\n",
    "    threshold = config.THRESHOLD\n",
    "    \n",
    "    pred_bbox = [tf.reshape(x, (-1, tf.shape(x)[-1])) for x in pred_bbox]\n",
    "    pred_bbox = tf.concat(pred_bbox, axis=0)\n",
    "    \n",
    "    bboxes = utils.postprocess_boxes(pred_bbox, frame_size, input_size, threshold)\n",
    "    \n",
    "    # Keep only person object prediction\n",
    "    bboxes = bboxes[bboxes[..., 5] == 0]\n",
    "\n",
    "    bboxes = utils.nms(bboxes, 0.45, method='nms')    \n",
    "    return bboxes\n"
   ]
  },
  {
   "cell_type": "code",
   "execution_count": 13,
   "metadata": {},
   "outputs": [],
   "source": [
    "def main(video_path, out_path='test.mp4', break_at=60, frames_to_ignore=0, verbose=None):\n",
    "    \"\"\"\n",
    "    \"\"\"\n",
    "    t_start = time.time()\n",
    "    vid = cv2.VideoCapture(video_path)\n",
    "    fps = round(vid.get(cv2.CAP_PROP_FPS),0)\n",
    "    \n",
    "    times = {\n",
    "        'next frame': list(),\n",
    "        'write time': list(),\n",
    "        'preprocess time': list(),\n",
    "        'pred time': list(),\n",
    "        'postprocess time': list(),\n",
    "        'draw bboxes time': list()\n",
    "    }\n",
    "    frames_analysed = 0\n",
    "    \n",
    "    cnt = 0\n",
    "    # get first frame\n",
    "    frame = get_next_frame(vid)\n",
    "    \n",
    "    # video resolution\n",
    "    height, width = frame.shape[:2]\n",
    "    \n",
    "    frames_hist = list()\n",
    "    \n",
    "    print('Original video: %ix%i and %i fps'%(width, height, fps))\n",
    "    \n",
    "    out = cv2.VideoWriter(out_path, \n",
    "                          cv2.VideoWriter_fourcc(*'DIVX'), \n",
    "                          fps, (width, height))\n",
    "    \n",
    "    print('Ready to analyse video at %.2fs'%(time.time()-t_start))\n",
    "    pred_bbox = []\n",
    "    \n",
    "    while frame is not None:\n",
    "        \n",
    "        if cnt%(frames_to_ignore+1) == 0:\n",
    "            # Preprocess frame\n",
    "            t0 = time.time()\n",
    "            image_data = get_image_preprocess(frame)\n",
    "            times['preprocess time'].append(time.time() - t0)\n",
    "\n",
    "            # Predict\n",
    "            pred_bbox, t = predict(image_data, model)\n",
    "            times['pred time'].append(t)\n",
    "            \n",
    "            # Postprocess to know if there is any poacher on the image\n",
    "            t0 = time.time()\n",
    "            pred_bbox = postprocess_pred_bbox(pred_bbox, [height, width])\n",
    "            times['postprocess time'].append(time.time() - t0)\n",
    "            \n",
    "            if verbose is not None:\n",
    "                print('frame n°%i : %i poacher(s) detected'%(cnt, len(pred_bbox)))\n",
    "            \n",
    "            frames_analysed += 1\n",
    "            gc.collect()\n",
    "            \n",
    "        \n",
    "        # Draw box on image\n",
    "        t0 = time.time()\n",
    "        frame = utils.draw_bbox(frame, pred_bbox)\n",
    "        times['draw bboxes time'].append(time.time() - t0)\n",
    "        \n",
    "        t0 = time.time()\n",
    "        out.write(frame)\n",
    "        times['write time'].append(time.time() - t0)\n",
    "        \n",
    "        t0 = time.time()\n",
    "        frame = get_next_frame(vid)\n",
    "        times['next frame'].append(time.time() - t0)\n",
    "        \n",
    "        cnt += 1\n",
    "        if cnt%fps == 0:\n",
    "            print(cnt,'frames : %.2fs'%(time.time()-t_start))\n",
    "            gc.collect()\n",
    "        \n",
    "        # Break if ask\n",
    "        if break_at is not None:\n",
    "            if cnt >= break_at:\n",
    "                break\n",
    "                \n",
    "    vid.release()\n",
    "    out.release()\n",
    "    \n",
    "    print('==================')\n",
    "    print('Script ended in %.2fs'%(time.time() - t_start))\n",
    "    print('Average time of writing into out video (%i frames) : %.3fs (std %.4f)'%(\n",
    "        cnt, np.mean(times['write time']), np.std(times['write time'])))\n",
    "    print('Average time of getting next frame (%i frames) : %.3fs (std %.4f)'%(\n",
    "        cnt, np.mean(times['next frame']), np.std(times['next frame'])))\n",
    "    print('Average time of preprocessing a frame (%i frames) : %.3fs (std %.4f)'%(\n",
    "        frames_analysed, np.mean(times['preprocess time']), np.std(times['preprocess time'])))\n",
    "    print('Average time of prediction on a frame (%i frames) : %.3fs (std %.4f)'%(\n",
    "        frames_analysed, np.mean(times['pred time']), np.std(times['pred time'])))\n",
    "    print('Average time of postprocess bboxes (%i frames) : %.3fs (std %.4f)'%(\n",
    "        frames_analysed, np.mean(times['postprocess time']), np.std(times['postprocess time'])))\n",
    "    print('Average time of drawing bboxes on a frame (%i frames) : %.3fs (std %.4f)'%(\n",
    "        cnt, np.mean(times['draw bboxes time']), np.std(times['draw bboxes time'])))\n",
    "    return times"
   ]
  },
  {
   "cell_type": "code",
   "execution_count": 14,
   "metadata": {},
   "outputs": [],
   "source": [
    "video_path = \"/data/archives/1.1.11.MP4\"\n",
    "# video_path = \"/data/archives/1.1.1.mov\"\n",
    "# video_path = \"/data/savane_1min.mp4\""
   ]
  },
  {
   "cell_type": "code",
   "execution_count": 15,
   "metadata": {
    "scrolled": false
   },
   "outputs": [
    {
     "name": "stdout",
     "output_type": "stream",
     "text": [
      "Original video: 3840x2160 and 30 fps\n",
      "Ready to analyse video at 0.68s\n",
      "30 frames : 11.30s\n",
      "60 frames : 23.04s\n",
      "90 frames : 34.04s\n",
      "120 frames : 44.68s\n",
      "150 frames : 55.65s\n",
      "180 frames : 66.19s\n",
      "210 frames : 76.50s\n",
      "240 frames : 87.01s\n",
      "270 frames : 97.53s\n",
      "300 frames : 108.18s\n",
      "330 frames : 118.92s\n",
      "360 frames : 129.44s\n",
      "390 frames : 139.98s\n",
      "420 frames : 151.02s\n",
      "450 frames : 161.97s\n",
      "480 frames : 172.94s\n",
      "510 frames : 183.97s\n",
      "540 frames : 195.03s\n",
      "570 frames : 206.00s\n",
      "600 frames : 217.14s\n",
      "==================\n",
      "Script ended in 218.72s\n",
      "Average time of writing into out video (604 frames) : 0.083s (std 0.0086)\n",
      "Average time of getting next frame (604 frames) : 0.021s (std 0.0121)\n",
      "Average time of preprocessing a frame (302 frames) : 0.009s (std 0.0016)\n",
      "Average time of prediction on a frame (302 frames) : 0.374s (std 0.0290)\n",
      "Average time of postprocess bboxes (302 frames) : 0.007s (std 0.0009)\n",
      "Average time of drawing bboxes on a frame (604 frames) : 0.001s (std 0.0008)\n"
     ]
    }
   ],
   "source": [
    "gc.collect()\n",
    "times = main(video_path, break_at=None, frames_to_ignore=1, verbose=None)"
   ]
  },
  {
   "cell_type": "code",
   "execution_count": 25,
   "metadata": {},
   "outputs": [
    {
     "data": {
      "image/png": "[encoded data removed]",
      "text/plain": [
       "<Figure size 432x288 with 1 Axes>"
      ]
     },
     "metadata": {
      "needs_background": "light"
     },
     "output_type": "display_data"
    }
   ],
   "source": [
    "import matplotlib.pyplot as plt\n",
    "\n",
    "preds_time = times['pred time']\n",
    "plt.hist(preds_time, 15, density=True)\n",
    "plt.title('Inference time over 302 frames')\n",
    "plt.xlabel('time (in sec)')\n",
    "plt.show()"
   ]
  },
  {
   "cell_type": "code",
   "execution_count": null,
   "metadata": {},
   "outputs": [],
   "source": []
  }
 ],
 "metadata": {
  "kernelspec": {
   "display_name": "Python 3",
   "language": "python",
   "name": "python3"
  },
  "language_info": {
   "codemirror_mode": {
    "name": "ipython",
    "version": 3
   },
   "file_extension": ".py",
   "mimetype": "text/x-python",
   "name": "python",
   "nbconvert_exporter": "python",
   "pygments_lexer": "ipython3",
   "version": "3.6.9"
  }
 },
 "nbformat": 4,
 "nbformat_minor": 4
}
